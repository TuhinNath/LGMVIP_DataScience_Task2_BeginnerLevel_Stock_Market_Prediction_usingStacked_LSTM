{
 "cells": [
  {
   "cell_type": "markdown",
   "id": "b7758aa6-8b7d-4c1d-a206-115cc37f0b4a",
   "metadata": {},
   "source": [
    "# DATA SCIENCE INTERN @LETSGROWMORE"
   ]
  },
  {
   "cell_type": "markdown",
   "id": "5dd55cc1-0546-4441-9602-a1944599f81e",
   "metadata": {},
   "source": [
    "# Beginner Task 2 : Stock Market Prediction And Forecasting with LSTM"
   ]
  },
  {
   "cell_type": "markdown",
   "id": "fa9cbde9-3702-4643-b76b-598dcc235982",
   "metadata": {},
   "source": [
    "# Author : Tuhin Nath\n"
   ]
  },
  {
   "cell_type": "code",
   "execution_count": 232,
   "id": "51f8ea57-aca5-40f0-ac1c-a6d05cd42db0",
   "metadata": {},
   "outputs": [],
   "source": [
    "#importing the librabies\n",
    "\n",
    "import pandas as pd\n",
    "import numpy as np\n"
   ]
  },
  {
   "cell_type": "code",
   "execution_count": 233,
   "id": "7241dead-7057-4d49-952c-433221c10564",
   "metadata": {},
   "outputs": [],
   "source": [
    "df= pd.read_csv(\"https://raw.githubusercontent.com/mwitiderrick/stockprice/master/NSE-TATAGLOBAL.csv\")"
   ]
  },
  {
   "cell_type": "code",
   "execution_count": 234,
   "id": "c839567e-7b9c-45b9-abd7-ca58a2be9864",
   "metadata": {},
   "outputs": [
    {
     "data": {
      "text/html": [
       "<div>\n",
       "<style scoped>\n",
       "    .dataframe tbody tr th:only-of-type {\n",
       "        vertical-align: middle;\n",
       "    }\n",
       "\n",
       "    .dataframe tbody tr th {\n",
       "        vertical-align: top;\n",
       "    }\n",
       "\n",
       "    .dataframe thead th {\n",
       "        text-align: right;\n",
       "    }\n",
       "</style>\n",
       "<table border=\"1\" class=\"dataframe\">\n",
       "  <thead>\n",
       "    <tr style=\"text-align: right;\">\n",
       "      <th></th>\n",
       "      <th>Date</th>\n",
       "      <th>Open</th>\n",
       "      <th>High</th>\n",
       "      <th>Low</th>\n",
       "      <th>Last</th>\n",
       "      <th>Close</th>\n",
       "      <th>Total Trade Quantity</th>\n",
       "      <th>Turnover (Lacs)</th>\n",
       "    </tr>\n",
       "  </thead>\n",
       "  <tbody>\n",
       "    <tr>\n",
       "      <th>0</th>\n",
       "      <td>2018-09-28</td>\n",
       "      <td>234.05</td>\n",
       "      <td>235.95</td>\n",
       "      <td>230.20</td>\n",
       "      <td>233.50</td>\n",
       "      <td>233.75</td>\n",
       "      <td>3069914</td>\n",
       "      <td>7162.35</td>\n",
       "    </tr>\n",
       "    <tr>\n",
       "      <th>1</th>\n",
       "      <td>2018-09-27</td>\n",
       "      <td>234.55</td>\n",
       "      <td>236.80</td>\n",
       "      <td>231.10</td>\n",
       "      <td>233.80</td>\n",
       "      <td>233.25</td>\n",
       "      <td>5082859</td>\n",
       "      <td>11859.95</td>\n",
       "    </tr>\n",
       "    <tr>\n",
       "      <th>2</th>\n",
       "      <td>2018-09-26</td>\n",
       "      <td>240.00</td>\n",
       "      <td>240.00</td>\n",
       "      <td>232.50</td>\n",
       "      <td>235.00</td>\n",
       "      <td>234.25</td>\n",
       "      <td>2240909</td>\n",
       "      <td>5248.60</td>\n",
       "    </tr>\n",
       "    <tr>\n",
       "      <th>3</th>\n",
       "      <td>2018-09-25</td>\n",
       "      <td>233.30</td>\n",
       "      <td>236.75</td>\n",
       "      <td>232.00</td>\n",
       "      <td>236.25</td>\n",
       "      <td>236.10</td>\n",
       "      <td>2349368</td>\n",
       "      <td>5503.90</td>\n",
       "    </tr>\n",
       "    <tr>\n",
       "      <th>4</th>\n",
       "      <td>2018-09-24</td>\n",
       "      <td>233.55</td>\n",
       "      <td>239.20</td>\n",
       "      <td>230.75</td>\n",
       "      <td>234.00</td>\n",
       "      <td>233.30</td>\n",
       "      <td>3423509</td>\n",
       "      <td>7999.55</td>\n",
       "    </tr>\n",
       "    <tr>\n",
       "      <th>5</th>\n",
       "      <td>2018-09-21</td>\n",
       "      <td>235.00</td>\n",
       "      <td>237.00</td>\n",
       "      <td>227.95</td>\n",
       "      <td>233.75</td>\n",
       "      <td>234.60</td>\n",
       "      <td>5395319</td>\n",
       "      <td>12589.59</td>\n",
       "    </tr>\n",
       "    <tr>\n",
       "      <th>6</th>\n",
       "      <td>2018-09-19</td>\n",
       "      <td>235.95</td>\n",
       "      <td>237.20</td>\n",
       "      <td>233.45</td>\n",
       "      <td>234.60</td>\n",
       "      <td>234.90</td>\n",
       "      <td>1362058</td>\n",
       "      <td>3202.78</td>\n",
       "    </tr>\n",
       "    <tr>\n",
       "      <th>7</th>\n",
       "      <td>2018-09-18</td>\n",
       "      <td>237.90</td>\n",
       "      <td>239.25</td>\n",
       "      <td>233.50</td>\n",
       "      <td>235.50</td>\n",
       "      <td>235.05</td>\n",
       "      <td>2614794</td>\n",
       "      <td>6163.70</td>\n",
       "    </tr>\n",
       "    <tr>\n",
       "      <th>8</th>\n",
       "      <td>2018-09-17</td>\n",
       "      <td>233.15</td>\n",
       "      <td>238.00</td>\n",
       "      <td>230.25</td>\n",
       "      <td>236.40</td>\n",
       "      <td>236.60</td>\n",
       "      <td>3170894</td>\n",
       "      <td>7445.41</td>\n",
       "    </tr>\n",
       "    <tr>\n",
       "      <th>9</th>\n",
       "      <td>2018-09-14</td>\n",
       "      <td>223.45</td>\n",
       "      <td>236.70</td>\n",
       "      <td>223.30</td>\n",
       "      <td>234.00</td>\n",
       "      <td>233.95</td>\n",
       "      <td>6377909</td>\n",
       "      <td>14784.50</td>\n",
       "    </tr>\n",
       "    <tr>\n",
       "      <th>10</th>\n",
       "      <td>2018-09-12</td>\n",
       "      <td>216.35</td>\n",
       "      <td>223.70</td>\n",
       "      <td>212.65</td>\n",
       "      <td>221.65</td>\n",
       "      <td>222.65</td>\n",
       "      <td>4570939</td>\n",
       "      <td>10002.01</td>\n",
       "    </tr>\n",
       "    <tr>\n",
       "      <th>11</th>\n",
       "      <td>2018-09-11</td>\n",
       "      <td>222.50</td>\n",
       "      <td>225.40</td>\n",
       "      <td>214.85</td>\n",
       "      <td>216.35</td>\n",
       "      <td>216.00</td>\n",
       "      <td>3508990</td>\n",
       "      <td>7735.81</td>\n",
       "    </tr>\n",
       "    <tr>\n",
       "      <th>12</th>\n",
       "      <td>2018-09-10</td>\n",
       "      <td>222.50</td>\n",
       "      <td>235.15</td>\n",
       "      <td>220.65</td>\n",
       "      <td>221.05</td>\n",
       "      <td>222.00</td>\n",
       "      <td>7514106</td>\n",
       "      <td>17130.29</td>\n",
       "    </tr>\n",
       "    <tr>\n",
       "      <th>13</th>\n",
       "      <td>2018-09-07</td>\n",
       "      <td>221.00</td>\n",
       "      <td>224.50</td>\n",
       "      <td>219.10</td>\n",
       "      <td>223.15</td>\n",
       "      <td>222.95</td>\n",
       "      <td>1232507</td>\n",
       "      <td>2742.84</td>\n",
       "    </tr>\n",
       "    <tr>\n",
       "      <th>14</th>\n",
       "      <td>2018-09-06</td>\n",
       "      <td>224.00</td>\n",
       "      <td>225.00</td>\n",
       "      <td>218.20</td>\n",
       "      <td>220.95</td>\n",
       "      <td>221.05</td>\n",
       "      <td>1738824</td>\n",
       "      <td>3856.72</td>\n",
       "    </tr>\n",
       "  </tbody>\n",
       "</table>\n",
       "</div>"
      ],
      "text/plain": [
       "          Date    Open    High     Low    Last   Close  Total Trade Quantity  \\\n",
       "0   2018-09-28  234.05  235.95  230.20  233.50  233.75               3069914   \n",
       "1   2018-09-27  234.55  236.80  231.10  233.80  233.25               5082859   \n",
       "2   2018-09-26  240.00  240.00  232.50  235.00  234.25               2240909   \n",
       "3   2018-09-25  233.30  236.75  232.00  236.25  236.10               2349368   \n",
       "4   2018-09-24  233.55  239.20  230.75  234.00  233.30               3423509   \n",
       "5   2018-09-21  235.00  237.00  227.95  233.75  234.60               5395319   \n",
       "6   2018-09-19  235.95  237.20  233.45  234.60  234.90               1362058   \n",
       "7   2018-09-18  237.90  239.25  233.50  235.50  235.05               2614794   \n",
       "8   2018-09-17  233.15  238.00  230.25  236.40  236.60               3170894   \n",
       "9   2018-09-14  223.45  236.70  223.30  234.00  233.95               6377909   \n",
       "10  2018-09-12  216.35  223.70  212.65  221.65  222.65               4570939   \n",
       "11  2018-09-11  222.50  225.40  214.85  216.35  216.00               3508990   \n",
       "12  2018-09-10  222.50  235.15  220.65  221.05  222.00               7514106   \n",
       "13  2018-09-07  221.00  224.50  219.10  223.15  222.95               1232507   \n",
       "14  2018-09-06  224.00  225.00  218.20  220.95  221.05               1738824   \n",
       "\n",
       "    Turnover (Lacs)  \n",
       "0           7162.35  \n",
       "1          11859.95  \n",
       "2           5248.60  \n",
       "3           5503.90  \n",
       "4           7999.55  \n",
       "5          12589.59  \n",
       "6           3202.78  \n",
       "7           6163.70  \n",
       "8           7445.41  \n",
       "9          14784.50  \n",
       "10         10002.01  \n",
       "11          7735.81  \n",
       "12         17130.29  \n",
       "13          2742.84  \n",
       "14          3856.72  "
      ]
     },
     "execution_count": 234,
     "metadata": {},
     "output_type": "execute_result"
    }
   ],
   "source": [
    "df.head(15)"
   ]
  },
  {
   "cell_type": "code",
   "execution_count": 235,
   "id": "47eba967-48a7-4464-bfe6-2c1d88c81a12",
   "metadata": {},
   "outputs": [],
   "source": [
    "df1= df.reset_index()['Close']"
   ]
  },
  {
   "cell_type": "code",
   "execution_count": 236,
   "id": "744ec962-f3d1-4129-a672-2a09a0e886ff",
   "metadata": {},
   "outputs": [
    {
     "data": {
      "text/plain": [
       "0       233.75\n",
       "1       233.25\n",
       "2       234.25\n",
       "3       236.10\n",
       "4       233.30\n",
       "         ...  \n",
       "2030    118.65\n",
       "2031    117.60\n",
       "2032    120.65\n",
       "2033    120.90\n",
       "2034    121.55\n",
       "Name: Close, Length: 2035, dtype: float64"
      ]
     },
     "execution_count": 236,
     "metadata": {},
     "output_type": "execute_result"
    }
   ],
   "source": [
    "df1"
   ]
  },
  {
   "cell_type": "code",
   "execution_count": 237,
   "id": "d17dd0ac-7be0-496c-8a1a-52e82bb8bdc5",
   "metadata": {},
   "outputs": [
    {
     "data": {
      "text/plain": [
       "(2035,)"
      ]
     },
     "execution_count": 237,
     "metadata": {},
     "output_type": "execute_result"
    }
   ],
   "source": [
    "df1.shape"
   ]
  },
  {
   "cell_type": "code",
   "execution_count": 238,
   "id": "6a84647c-6244-4663-9911-aac4652e9b70",
   "metadata": {},
   "outputs": [],
   "source": [
    "import matplotlib.pyplot as plt"
   ]
  },
  {
   "cell_type": "code",
   "execution_count": 239,
   "id": "45270415-e8f2-4f87-a5af-789e4cee7e5e",
   "metadata": {},
   "outputs": [
    {
     "data": {
      "text/plain": [
       "[<matplotlib.lines.Line2D at 0x2141d057f70>]"
      ]
     },
     "execution_count": 239,
     "metadata": {},
     "output_type": "execute_result"
    },
    {
     "data": {
      "image/png": "[encoded data removed]",
      "text/plain": [
       "<Figure size 432x288 with 1 Axes>"
      ]
     },
     "metadata": {
      "needs_background": "light"
     },
     "output_type": "display_data"
    }
   ],
   "source": [
    "plt.plot(df1)"
   ]
  },
  {
   "cell_type": "code",
   "execution_count": 240,
   "id": "c40da4e6-e0e8-41f3-a5fe-7a8186bff3b0",
   "metadata": {},
   "outputs": [],
   "source": [
    "from sklearn.preprocessing import MinMaxScaler\n",
    "scaler=MinMaxScaler(feature_range=(0,1))\n",
    "df1=scaler.fit_transform(np.array(df1).reshape(-1,1))"
   ]
  },
  {
   "cell_type": "code",
   "execution_count": 241,
   "id": "0db5f064-29f5-45f1-ae5f-464309a4fc0d",
   "metadata": {},
   "outputs": [
    {
     "data": {
      "text/plain": [
       "array([[0.62418301],\n",
       "       [0.62214052],\n",
       "       [0.62622549],\n",
       "       ...,\n",
       "       [0.1621732 ],\n",
       "       [0.16319444],\n",
       "       [0.16584967]])"
      ]
     },
     "execution_count": 241,
     "metadata": {},
     "output_type": "execute_result"
    }
   ],
   "source": [
    "df1\n"
   ]
  },
  {
   "cell_type": "code",
   "execution_count": 242,
   "id": "5d3cbc68-284d-4c5b-8d75-9ba3fb1789d2",
   "metadata": {},
   "outputs": [
    {
     "data": {
      "text/plain": [
       "[<matplotlib.lines.Line2D at 0x2141cd5c7c0>]"
      ]
     },
     "execution_count": 242,
     "metadata": {},
     "output_type": "execute_result"
    },
    {
     "data": {
      "image/png": "[encoded data removed]",
      "text/plain": [
       "<Figure size 432x288 with 1 Axes>"
      ]
     },
     "metadata": {
      "needs_background": "light"
     },
     "output_type": "display_data"
    }
   ],
   "source": [
    "plt.plot(df1)"
   ]
  },
  {
   "cell_type": "code",
   "execution_count": 245,
   "id": "d4015169-77c5-4db5-a20c-004c16f3e44e",
   "metadata": {},
   "outputs": [
    {
     "data": {
      "text/plain": [
       "(1322, 713)"
      ]
     },
     "execution_count": 245,
     "metadata": {},
     "output_type": "execute_result"
    }
   ],
   "source": [
    "training_size, test_size"
   ]
  },
  {
   "cell_type": "code",
   "execution_count": 246,
   "id": "e22e7366-eff5-4899-b26b-eeeb7dd77ebf",
   "metadata": {},
   "outputs": [],
   "source": [
    "training_size= int(len(df1)*0.65)\n",
    "test_size= len(df1)-training_size\n",
    "train_data, test_data= df1[0:training_size,:],df1[training_size:len(df1),:1]\n"
   ]
  },
  {
   "cell_type": "code",
   "execution_count": 247,
   "id": "49bb6bf5-353c-4f65-af98-c6d82b2722d5",
   "metadata": {},
   "outputs": [],
   "source": [
    "import numpy\n",
    "# convert an array of values into a dataset matrix\n",
    "def create_dataset(dataset, time_step=1):\n",
    "\tdataX, dataY = [], []\n",
    "\tfor i in range(len(dataset)-time_step-1):\n",
    "\t\ta = dataset[i:(i+time_step), 0]   \n",
    "\t\tdataX.append(a)\n",
    "\t\tdataY.append(dataset[i + time_step, 0])\n",
    "\treturn numpy.array(dataX), numpy.array(dataY)"
   ]
  },
  {
   "cell_type": "code",
   "execution_count": 248,
   "id": "111fc447-1f55-4582-8adc-300a3e5b6753",
   "metadata": {},
   "outputs": [],
   "source": [
    "time_step = 100\n",
    "X_train, y_train = create_dataset(train_data, time_step)\n",
    "X_test, ytest = create_dataset(test_data, time_step)"
   ]
  },
  {
   "cell_type": "code",
   "execution_count": 249,
   "id": "8bc0cb3e-cbe6-455c-8e66-e75f60e4e3fa",
   "metadata": {},
   "outputs": [
    {
     "name": "stdout",
     "output_type": "stream",
     "text": [
      "(1221, 100)\n",
      "(1221,)\n"
     ]
    },
    {
     "data": {
      "text/plain": [
       "(None, None)"
      ]
     },
     "execution_count": 249,
     "metadata": {},
     "output_type": "execute_result"
    }
   ],
   "source": [
    "print(X_train.shape), print(y_train.shape)\n"
   ]
  },
  {
   "cell_type": "code",
   "execution_count": 250,
   "id": "ed80dca3-51a8-4f57-85c2-88324d34de81",
   "metadata": {},
   "outputs": [
    {
     "name": "stdout",
     "output_type": "stream",
     "text": [
      "(612, 100)\n",
      "(612,)\n"
     ]
    },
    {
     "data": {
      "text/plain": [
       "(None, None)"
      ]
     },
     "execution_count": 250,
     "metadata": {},
     "output_type": "execute_result"
    }
   ],
   "source": [
    "print(X_test.shape), print(ytest.shape)\n"
   ]
  },
  {
   "cell_type": "code",
   "execution_count": 251,
   "id": "afb1222a-fb3c-4abe-bcbb-8a46dc9f207e",
   "metadata": {},
   "outputs": [
    {
     "data": {
      "text/plain": [
       "(1221, 100, 1)"
      ]
     },
     "execution_count": 251,
     "metadata": {},
     "output_type": "execute_result"
    }
   ],
   "source": [
    "X_train =X_train.reshape(X_train.shape[0],X_train.shape[1] , 1)\n",
    "X_test = X_test.reshape(X_test.shape[0],X_test.shape[1] , 1)\n",
    "X_train.shape"
   ]
  },
  {
   "cell_type": "code",
   "execution_count": 252,
   "id": "e271a324-6d66-488d-802f-2932c34f88b8",
   "metadata": {},
   "outputs": [],
   "source": [
    "from tensorflow.keras.models import Sequential\n",
    "from tensorflow.keras.layers import Dense\n",
    "from tensorflow.keras.layers import LSTM"
   ]
  },
  {
   "cell_type": "code",
   "execution_count": 253,
   "id": "f2d3dded-6384-4df0-8289-778afe218ac9",
   "metadata": {},
   "outputs": [],
   "source": [
    "model=Sequential()\n",
    "model.add(LSTM(50,return_sequences=True,input_shape=(100,1)))\n",
    "model.add(LSTM(50,return_sequences=True))\n",
    "model.add(LSTM(50))\n",
    "model.add(Dense(1))\n",
    "model.compile(loss='mean_squared_error',optimizer='adam')"
   ]
  },
  {
   "cell_type": "code",
   "execution_count": 254,
   "id": "6012cce9-dbdf-4281-b316-3eb318b768a4",
   "metadata": {},
   "outputs": [
    {
     "name": "stdout",
     "output_type": "stream",
     "text": [
      "Model: \"sequential_4\"\n",
      "_________________________________________________________________\n",
      " Layer (type)                Output Shape              Param #   \n",
      "=================================================================\n",
      " lstm_12 (LSTM)              (None, 100, 50)           10400     \n",
      "                                                                 \n",
      " lstm_13 (LSTM)              (None, 100, 50)           20200     \n",
      "                                                                 \n",
      " lstm_14 (LSTM)              (None, 50)                20200     \n",
      "                                                                 \n",
      " dense_4 (Dense)             (None, 1)                 51        \n",
      "                                                                 \n",
      "=================================================================\n",
      "Total params: 50851 (198.64 KB)\n",
      "Trainable params: 50851 (198.64 KB)\n",
      "Non-trainable params: 0 (0.00 Byte)\n",
      "_________________________________________________________________\n"
     ]
    }
   ],
   "source": [
    "model.summary()"
   ]
  },
  {
   "cell_type": "code",
   "execution_count": 255,
   "id": "f2422d14-44b1-4d28-871c-bf288903b836",
   "metadata": {},
   "outputs": [
    {
     "name": "stdout",
     "output_type": "stream",
     "text": [
      "Epoch 1/100\n",
      "20/20 [==============================] - 12s 288ms/step - loss: 0.0312 - val_loss: 0.0056\n",
      "Epoch 2/100\n",
      "20/20 [==============================] - 4s 212ms/step - loss: 0.0041 - val_loss: 0.0021\n",
      "Epoch 3/100\n",
      "20/20 [==============================] - 4s 215ms/step - loss: 0.0020 - val_loss: 0.0016\n",
      "Epoch 4/100\n",
      "20/20 [==============================] - 4s 212ms/step - loss: 0.0017 - val_loss: 0.0012\n",
      "Epoch 5/100\n",
      "20/20 [==============================] - 4s 211ms/step - loss: 0.0016 - val_loss: 0.0014\n",
      "Epoch 6/100\n",
      "20/20 [==============================] - 4s 216ms/step - loss: 0.0020 - val_loss: 0.0013\n",
      "Epoch 7/100\n",
      "20/20 [==============================] - 4s 210ms/step - loss: 0.0014 - val_loss: 0.0010\n",
      "Epoch 8/100\n",
      "20/20 [==============================] - 4s 216ms/step - loss: 0.0013 - val_loss: 0.0014\n",
      "Epoch 9/100\n",
      "20/20 [==============================] - 4s 212ms/step - loss: 0.0015 - val_loss: 0.0011\n",
      "Epoch 10/100\n",
      "20/20 [==============================] - 4s 223ms/step - loss: 0.0012 - val_loss: 0.0010\n",
      "Epoch 11/100\n",
      "20/20 [==============================] - 4s 216ms/step - loss: 0.0011 - val_loss: 0.0013\n",
      "Epoch 12/100\n",
      "20/20 [==============================] - 4s 210ms/step - loss: 0.0014 - val_loss: 9.4660e-04\n",
      "Epoch 13/100\n",
      "20/20 [==============================] - 4s 218ms/step - loss: 0.0011 - val_loss: 9.2724e-04\n",
      "Epoch 14/100\n",
      "20/20 [==============================] - 4s 212ms/step - loss: 0.0010 - val_loss: 9.8450e-04\n",
      "Epoch 15/100\n",
      "20/20 [==============================] - 4s 217ms/step - loss: 9.7837e-04 - val_loss: 7.6985e-04\n",
      "Epoch 16/100\n",
      "20/20 [==============================] - 4s 214ms/step - loss: 9.6042e-04 - val_loss: 0.0010\n",
      "Epoch 17/100\n",
      "20/20 [==============================] - 4s 213ms/step - loss: 0.0010 - val_loss: 6.9053e-04\n",
      "Epoch 18/100\n",
      "20/20 [==============================] - 4s 218ms/step - loss: 0.0010 - val_loss: 7.2088e-04\n",
      "Epoch 19/100\n",
      "20/20 [==============================] - 4s 213ms/step - loss: 8.6791e-04 - val_loss: 8.8966e-04\n",
      "Epoch 20/100\n",
      "20/20 [==============================] - 4s 218ms/step - loss: 9.6874e-04 - val_loss: 8.3083e-04\n",
      "Epoch 21/100\n",
      "20/20 [==============================] - 4s 225ms/step - loss: 9.2245e-04 - val_loss: 6.8738e-04\n",
      "Epoch 22/100\n",
      "20/20 [==============================] - 4s 213ms/step - loss: 8.2568e-04 - val_loss: 5.8590e-04\n",
      "Epoch 23/100\n",
      "20/20 [==============================] - 5s 234ms/step - loss: 7.5693e-04 - val_loss: 7.2301e-04\n",
      "Epoch 24/100\n",
      "20/20 [==============================] - 4s 214ms/step - loss: 7.5065e-04 - val_loss: 6.4275e-04\n",
      "Epoch 25/100\n",
      "20/20 [==============================] - 4s 217ms/step - loss: 7.1777e-04 - val_loss: 5.9638e-04\n",
      "Epoch 26/100\n",
      "20/20 [==============================] - 4s 211ms/step - loss: 0.0011 - val_loss: 5.7979e-04\n",
      "Epoch 27/100\n",
      "20/20 [==============================] - 4s 215ms/step - loss: 9.0199e-04 - val_loss: 7.3023e-04\n",
      "Epoch 28/100\n",
      "20/20 [==============================] - 5s 225ms/step - loss: 7.4664e-04 - val_loss: 6.5084e-04\n",
      "Epoch 29/100\n",
      "20/20 [==============================] - 4s 213ms/step - loss: 6.7879e-04 - val_loss: 6.6281e-04\n",
      "Epoch 30/100\n",
      "20/20 [==============================] - 4s 217ms/step - loss: 6.9331e-04 - val_loss: 5.9999e-04\n",
      "Epoch 31/100\n",
      "20/20 [==============================] - 4s 213ms/step - loss: 6.7550e-04 - val_loss: 6.0372e-04\n",
      "Epoch 32/100\n",
      "20/20 [==============================] - 4s 213ms/step - loss: 6.8738e-04 - val_loss: 6.3866e-04\n",
      "Epoch 33/100\n",
      "20/20 [==============================] - 4s 214ms/step - loss: 6.3563e-04 - val_loss: 6.3835e-04\n",
      "Epoch 34/100\n",
      "20/20 [==============================] - 4s 213ms/step - loss: 5.9621e-04 - val_loss: 5.9434e-04\n",
      "Epoch 35/100\n",
      "20/20 [==============================] - 4s 217ms/step - loss: 7.1383e-04 - val_loss: 7.1684e-04\n",
      "Epoch 36/100\n",
      "20/20 [==============================] - 4s 217ms/step - loss: 5.9020e-04 - val_loss: 6.2816e-04\n",
      "Epoch 37/100\n",
      "20/20 [==============================] - 5s 226ms/step - loss: 5.7965e-04 - val_loss: 6.0970e-04\n",
      "Epoch 38/100\n",
      "20/20 [==============================] - 4s 222ms/step - loss: 5.4655e-04 - val_loss: 5.2703e-04\n",
      "Epoch 39/100\n",
      "20/20 [==============================] - 4s 214ms/step - loss: 5.5425e-04 - val_loss: 5.9366e-04\n",
      "Epoch 40/100\n",
      "20/20 [==============================] - 4s 221ms/step - loss: 5.4886e-04 - val_loss: 5.5839e-04\n",
      "Epoch 41/100\n",
      "20/20 [==============================] - 4s 217ms/step - loss: 5.4085e-04 - val_loss: 6.6839e-04\n",
      "Epoch 42/100\n",
      "20/20 [==============================] - 4s 219ms/step - loss: 5.0417e-04 - val_loss: 4.9528e-04\n",
      "Epoch 43/100\n",
      "20/20 [==============================] - 4s 218ms/step - loss: 5.0601e-04 - val_loss: 5.5730e-04\n",
      "Epoch 44/100\n",
      "20/20 [==============================] - 4s 224ms/step - loss: 4.9769e-04 - val_loss: 4.1886e-04\n",
      "Epoch 45/100\n",
      "20/20 [==============================] - 4s 217ms/step - loss: 5.0337e-04 - val_loss: 4.6687e-04\n",
      "Epoch 46/100\n",
      "20/20 [==============================] - 4s 224ms/step - loss: 5.0021e-04 - val_loss: 4.9664e-04\n",
      "Epoch 47/100\n",
      "20/20 [==============================] - 4s 217ms/step - loss: 5.0045e-04 - val_loss: 6.2729e-04\n",
      "Epoch 48/100\n",
      "20/20 [==============================] - 4s 220ms/step - loss: 5.0983e-04 - val_loss: 4.2179e-04\n",
      "Epoch 49/100\n",
      "20/20 [==============================] - 4s 216ms/step - loss: 5.6717e-04 - val_loss: 4.9590e-04\n",
      "Epoch 50/100\n",
      "20/20 [==============================] - 4s 215ms/step - loss: 4.7529e-04 - val_loss: 4.4420e-04\n",
      "Epoch 51/100\n",
      "20/20 [==============================] - 4s 221ms/step - loss: 4.5073e-04 - val_loss: 4.3092e-04\n",
      "Epoch 52/100\n",
      "20/20 [==============================] - 4s 216ms/step - loss: 4.2433e-04 - val_loss: 4.7635e-04\n",
      "Epoch 53/100\n",
      "20/20 [==============================] - 4s 220ms/step - loss: 4.3026e-04 - val_loss: 4.3213e-04\n",
      "Epoch 54/100\n",
      "20/20 [==============================] - 4s 224ms/step - loss: 4.1063e-04 - val_loss: 4.3605e-04\n",
      "Epoch 55/100\n",
      "20/20 [==============================] - 5s 235ms/step - loss: 5.2306e-04 - val_loss: 4.3469e-04\n",
      "Epoch 56/100\n",
      "20/20 [==============================] - 4s 212ms/step - loss: 4.1850e-04 - val_loss: 3.3237e-04\n",
      "Epoch 57/100\n",
      "20/20 [==============================] - 4s 214ms/step - loss: 4.0543e-04 - val_loss: 3.2890e-04\n",
      "Epoch 58/100\n",
      "20/20 [==============================] - 4s 219ms/step - loss: 5.1270e-04 - val_loss: 5.6742e-04\n",
      "Epoch 59/100\n",
      "20/20 [==============================] - 4s 211ms/step - loss: 5.0544e-04 - val_loss: 3.9514e-04\n",
      "Epoch 60/100\n",
      "20/20 [==============================] - 4s 225ms/step - loss: 3.8131e-04 - val_loss: 4.0931e-04\n",
      "Epoch 61/100\n",
      "20/20 [==============================] - 5s 226ms/step - loss: 3.7049e-04 - val_loss: 4.2815e-04\n",
      "Epoch 62/100\n",
      "20/20 [==============================] - 5s 248ms/step - loss: 3.9144e-04 - val_loss: 5.6057e-04\n",
      "Epoch 63/100\n",
      "20/20 [==============================] - 5s 244ms/step - loss: 9.3718e-04 - val_loss: 3.7154e-04\n",
      "Epoch 64/100\n",
      "20/20 [==============================] - 4s 222ms/step - loss: 4.3352e-04 - val_loss: 4.4131e-04\n",
      "Epoch 65/100\n",
      "20/20 [==============================] - 4s 216ms/step - loss: 3.6777e-04 - val_loss: 4.2580e-04\n",
      "Epoch 66/100\n",
      "20/20 [==============================] - 4s 217ms/step - loss: 3.7473e-04 - val_loss: 4.1600e-04\n",
      "Epoch 67/100\n",
      "20/20 [==============================] - 4s 217ms/step - loss: 3.2866e-04 - val_loss: 2.9972e-04\n",
      "Epoch 68/100\n",
      "20/20 [==============================] - 4s 213ms/step - loss: 3.7568e-04 - val_loss: 2.8710e-04\n",
      "Epoch 69/100\n",
      "20/20 [==============================] - 4s 218ms/step - loss: 3.2961e-04 - val_loss: 4.1252e-04\n",
      "Epoch 70/100\n",
      "20/20 [==============================] - 4s 213ms/step - loss: 4.8077e-04 - val_loss: 3.4918e-04\n",
      "Epoch 71/100\n",
      "20/20 [==============================] - 4s 217ms/step - loss: 3.3010e-04 - val_loss: 3.8971e-04\n",
      "Epoch 72/100\n",
      "20/20 [==============================] - 4s 218ms/step - loss: 3.6592e-04 - val_loss: 3.0498e-04\n",
      "Epoch 73/100\n",
      "20/20 [==============================] - 4s 212ms/step - loss: 3.5904e-04 - val_loss: 2.5640e-04\n",
      "Epoch 74/100\n",
      "20/20 [==============================] - 4s 217ms/step - loss: 3.2037e-04 - val_loss: 2.6216e-04\n",
      "Epoch 75/100\n",
      "20/20 [==============================] - 4s 214ms/step - loss: 3.0798e-04 - val_loss: 3.3451e-04\n",
      "Epoch 76/100\n",
      "20/20 [==============================] - 4s 226ms/step - loss: 3.1437e-04 - val_loss: 3.0179e-04\n",
      "Epoch 77/100\n",
      "20/20 [==============================] - 4s 214ms/step - loss: 3.2406e-04 - val_loss: 3.7634e-04\n",
      "Epoch 78/100\n",
      "20/20 [==============================] - 4s 218ms/step - loss: 2.9553e-04 - val_loss: 2.5665e-04\n",
      "Epoch 79/100\n",
      "20/20 [==============================] - 5s 231ms/step - loss: 3.1406e-04 - val_loss: 4.3426e-04\n",
      "Epoch 80/100\n",
      "20/20 [==============================] - 4s 225ms/step - loss: 3.1755e-04 - val_loss: 2.7679e-04\n",
      "Epoch 81/100\n",
      "20/20 [==============================] - 5s 229ms/step - loss: 2.8467e-04 - val_loss: 3.1016e-04\n",
      "Epoch 82/100\n",
      "20/20 [==============================] - 4s 214ms/step - loss: 2.8584e-04 - val_loss: 3.4403e-04\n",
      "Epoch 83/100\n",
      "20/20 [==============================] - 4s 218ms/step - loss: 3.3155e-04 - val_loss: 3.3206e-04\n",
      "Epoch 84/100\n",
      "20/20 [==============================] - 4s 213ms/step - loss: 3.3199e-04 - val_loss: 4.3975e-04\n",
      "Epoch 85/100\n",
      "20/20 [==============================] - 4s 222ms/step - loss: 2.7511e-04 - val_loss: 2.3425e-04\n",
      "Epoch 86/100\n",
      "20/20 [==============================] - 4s 215ms/step - loss: 4.6416e-04 - val_loss: 2.3549e-04\n",
      "Epoch 87/100\n",
      "20/20 [==============================] - 4s 217ms/step - loss: 3.9655e-04 - val_loss: 2.9580e-04\n",
      "Epoch 88/100\n",
      "20/20 [==============================] - 4s 218ms/step - loss: 3.2286e-04 - val_loss: 3.0061e-04\n",
      "Epoch 89/100\n",
      "20/20 [==============================] - 4s 219ms/step - loss: 3.6110e-04 - val_loss: 4.6604e-04\n",
      "Epoch 90/100\n",
      "20/20 [==============================] - 4s 220ms/step - loss: 2.6786e-04 - val_loss: 2.6577e-04\n",
      "Epoch 91/100\n",
      "20/20 [==============================] - 4s 216ms/step - loss: 2.6060e-04 - val_loss: 2.2205e-04\n",
      "Epoch 92/100\n",
      "20/20 [==============================] - 4s 221ms/step - loss: 2.7589e-04 - val_loss: 3.9450e-04\n",
      "Epoch 93/100\n",
      "20/20 [==============================] - 4s 213ms/step - loss: 3.0995e-04 - val_loss: 2.4187e-04\n",
      "Epoch 94/100\n",
      "20/20 [==============================] - 4s 215ms/step - loss: 2.4527e-04 - val_loss: 2.1994e-04\n",
      "Epoch 95/100\n",
      "20/20 [==============================] - 4s 226ms/step - loss: 2.4753e-04 - val_loss: 2.3608e-04\n",
      "Epoch 96/100\n",
      "20/20 [==============================] - 4s 215ms/step - loss: 2.6562e-04 - val_loss: 2.5486e-04\n",
      "Epoch 97/100\n",
      "20/20 [==============================] - 4s 219ms/step - loss: 2.3931e-04 - val_loss: 2.1275e-04\n",
      "Epoch 98/100\n",
      "20/20 [==============================] - 4s 217ms/step - loss: 2.4665e-04 - val_loss: 2.0764e-04\n",
      "Epoch 99/100\n",
      "20/20 [==============================] - 4s 219ms/step - loss: 2.5885e-04 - val_loss: 2.3555e-04\n",
      "Epoch 100/100\n",
      "20/20 [==============================] - 4s 213ms/step - loss: 2.4032e-04 - val_loss: 2.0065e-04\n"
     ]
    },
    {
     "data": {
      "text/plain": [
       "<keras.src.callbacks.History at 0x21420287520>"
      ]
     },
     "execution_count": 255,
     "metadata": {},
     "output_type": "execute_result"
    }
   ],
   "source": [
    "model.fit(X_train,y_train,validation_data=(X_test,ytest),epochs=100,batch_size=64,verbose=1)"
   ]
  },
  {
   "cell_type": "code",
   "execution_count": 256,
   "id": "8e8f8344-8dc6-4386-9171-9db8eeb7834a",
   "metadata": {},
   "outputs": [],
   "source": [
    "import tensorflow as tf\n"
   ]
  },
  {
   "cell_type": "code",
   "execution_count": 257,
   "id": "8cddb2cd-4be3-4b31-97c2-9db51edeaa13",
   "metadata": {},
   "outputs": [
    {
     "data": {
      "text/plain": [
       "'2.13.0'"
      ]
     },
     "execution_count": 257,
     "metadata": {},
     "output_type": "execute_result"
    }
   ],
   "source": [
    "tf.__version__\n"
   ]
  },
  {
   "cell_type": "code",
   "execution_count": 258,
   "id": "ef8b2f95-04fd-43e1-9692-55b68795577d",
   "metadata": {},
   "outputs": [
    {
     "name": "stdout",
     "output_type": "stream",
     "text": [
      "39/39 [==============================] - 3s 39ms/step\n",
      "20/20 [==============================] - 1s 44ms/step\n"
     ]
    }
   ],
   "source": [
    "train_predict= model.predict(X_train)\n",
    "test_predict= model.predict(X_test)"
   ]
  },
  {
   "cell_type": "code",
   "execution_count": 259,
   "id": "578337b9-edca-4379-bedd-07ff804361f2",
   "metadata": {},
   "outputs": [
    {
     "data": {
      "text/plain": [
       "array([[284.3481 ],\n",
       "       [286.71478],\n",
       "       [285.41135],\n",
       "       ...,\n",
       "       [145.37732],\n",
       "       [144.79932],\n",
       "       [143.38   ]], dtype=float32)"
      ]
     },
     "execution_count": 259,
     "metadata": {},
     "output_type": "execute_result"
    }
   ],
   "source": [
    "train_predict= scaler.inverse_transform(np.array(train_predict).reshape(-1,1))\n",
    "test_predict= scaler.inverse_transform(np.array(test_predict))\n",
    "\n",
    "train_predict"
   ]
  },
  {
   "cell_type": "code",
   "execution_count": 260,
   "id": "19d16714-6f8e-4c4f-9f47-105b07696bea",
   "metadata": {},
   "outputs": [
    {
     "data": {
      "text/plain": [
       "164.5731750704476"
      ]
     },
     "execution_count": 260,
     "metadata": {},
     "output_type": "execute_result"
    }
   ],
   "source": [
    "import math\n",
    "from sklearn.metrics import mean_squared_error\n",
    "math.sqrt(mean_squared_error(y_train,train_predict))"
   ]
  },
  {
   "cell_type": "code",
   "execution_count": 261,
   "id": "9e184f9b-1033-4d49-974f-2fea1cd4846c",
   "metadata": {},
   "outputs": [
    {
     "data": {
      "text/plain": [
       "115.3883017119065"
      ]
     },
     "execution_count": 261,
     "metadata": {},
     "output_type": "execute_result"
    }
   ],
   "source": [
    "math.sqrt(mean_squared_error(ytest,test_predict))\n"
   ]
  },
  {
   "cell_type": "code",
   "execution_count": 271,
   "id": "ba05fc8d-fa05-4bca-b09c-9ec3f45631f1",
   "metadata": {},
   "outputs": [
    {
     "data": {
      "image/png": "[encoded data removed]",
      "text/plain": [
       "<Figure size 864x432 with 1 Axes>"
      ]
     },
     "metadata": {
      "needs_background": "light"
     },
     "output_type": "display_data"
    }
   ],
   "source": [
    "### Plotting \n",
    "# shift train predictions for plotting\n",
    "look_back=100\n",
    "trainPredictPlot = numpy.empty_like(df1)\n",
    "trainPredictPlot[:, :] = np.nan\n",
    "trainPredictPlot[look_back:len(train_predict)+look_back, :] = train_predict\n",
    "# shift test predictions for plotting\n",
    "testPredictPlot = numpy.empty_like(df1)\n",
    "testPredictPlot[:, :] = numpy.nan\n",
    "testPredictPlot[len(train_predict)+(look_back*2)+1:len(df1)-1, :] = test_predict\n",
    "# plot baseline and predictions\n",
    "plt.figure(figsize=(12, 6))\n",
    "\n",
    "plt.plot(scaler.inverse_transform(df1))\n",
    "plt.plot(trainPredictPlot)\n",
    "plt.plot(testPredictPlot)\n",
    "plt.show()"
   ]
  },
  {
   "cell_type": "code",
   "execution_count": 263,
   "id": "e4c04e9b-c876-4b6c-9c8b-9fe759fcdcc7",
   "metadata": {},
   "outputs": [
    {
     "data": {
      "text/plain": [
       "713"
      ]
     },
     "execution_count": 263,
     "metadata": {},
     "output_type": "execute_result"
    }
   ],
   "source": [
    "len(test_data)\n"
   ]
  },
  {
   "cell_type": "code",
   "execution_count": 272,
   "id": "b4a5beed-04f2-4b45-a0a6-c271179fa955",
   "metadata": {},
   "outputs": [
    {
     "data": {
      "text/plain": [
       "(1, 100)"
      ]
     },
     "execution_count": 272,
     "metadata": {},
     "output_type": "execute_result"
    }
   ],
   "source": [
    "x_input=test_data[613:].reshape(1,-1)\n",
    "x_input.shape"
   ]
  },
  {
   "cell_type": "code",
   "execution_count": 273,
   "id": "a3d743c3-4cb2-48fd-afa0-9ed8ef4a23b3",
   "metadata": {},
   "outputs": [],
   "source": [
    "temp_input=list(x_input)\n",
    "temp_input=temp_input[0].tolist()"
   ]
  },
  {
   "cell_type": "code",
   "execution_count": 274,
   "id": "4efc5beb-3c28-4485-87a9-8d6d267737d4",
   "metadata": {},
   "outputs": [
    {
     "data": {
      "text/plain": [
       "[0.12479575163398693,\n",
       " 0.1384803921568627,\n",
       " 0.14011437908496732,\n",
       " 0.1388888888888889,\n",
       " 0.13541666666666663,\n",
       " 0.14011437908496732,\n",
       " 0.13807189542483655,\n",
       " 0.130718954248366,\n",
       " 0.130718954248366,\n",
       " 0.12867647058823528,\n",
       " 0.11846405228758167,\n",
       " 0.14644607843137253,\n",
       " 0.1480800653594771,\n",
       " 0.159109477124183,\n",
       " 0.15992647058823523,\n",
       " 0.1578839869281045,\n",
       " 0.16441993464052285,\n",
       " 0.178921568627451,\n",
       " 0.17933006535947704,\n",
       " 0.19260620915032678,\n",
       " 0.2081290849673203,\n",
       " 0.18974673202614378,\n",
       " 0.18055555555555558,\n",
       " 0.1823937908496731,\n",
       " 0.17708333333333326,\n",
       " 0.17810457516339862,\n",
       " 0.18055555555555558,\n",
       " 0.17810457516339862,\n",
       " 0.17851307189542487,\n",
       " 0.196078431372549,\n",
       " 0.18913398692810457,\n",
       " 0.1895424836601307,\n",
       " 0.19403594771241828,\n",
       " 0.19444444444444442,\n",
       " 0.20200163398692816,\n",
       " 0.19771241830065356,\n",
       " 0.19934640522875813,\n",
       " 0.19873366013071891,\n",
       " 0.19975490196078427,\n",
       " 0.21282679738562094,\n",
       " 0.21568627450980393,\n",
       " 0.2044526143790849,\n",
       " 0.21772875816993464,\n",
       " 0.21098856209150318,\n",
       " 0.21425653594771243,\n",
       " 0.1975081699346406,\n",
       " 0.1881127450980392,\n",
       " 0.17851307189542487,\n",
       " 0.17381535947712412,\n",
       " 0.16033496732026142,\n",
       " 0.16564542483660127,\n",
       " 0.1711601307189542,\n",
       " 0.17422385620915026,\n",
       " 0.1803513071895424,\n",
       " 0.1740196078431372,\n",
       " 0.16278594771241828,\n",
       " 0.1697303921568627,\n",
       " 0.17810457516339862,\n",
       " 0.1703431372549019,\n",
       " 0.16830065359477125,\n",
       " 0.17279411764705876,\n",
       " 0.1754493464052288,\n",
       " 0.18382352941176472,\n",
       " 0.19138071895424835,\n",
       " 0.18913398692810457,\n",
       " 0.1909722222222222,\n",
       " 0.17238562091503273,\n",
       " 0.16830065359477125,\n",
       " 0.16932189542483655,\n",
       " 0.1717728758169934,\n",
       " 0.16156045751633985,\n",
       " 0.14971405228758167,\n",
       " 0.15032679738562088,\n",
       " 0.1519607843137255,\n",
       " 0.1472630718954248,\n",
       " 0.14501633986928103,\n",
       " 0.14603758169934639,\n",
       " 0.12479575163398693,\n",
       " 0.13112745098039214,\n",
       " 0.11397058823529405,\n",
       " 0.11907679738562088,\n",
       " 0.12377450980392157,\n",
       " 0.13562091503267976,\n",
       " 0.12908496732026142,\n",
       " 0.1345996732026144,\n",
       " 0.12806372549019607,\n",
       " 0.13031045751633985,\n",
       " 0.12724673202614373,\n",
       " 0.13521241830065356,\n",
       " 0.1452205882352941,\n",
       " 0.15257352941176466,\n",
       " 0.14848856209150324,\n",
       " 0.14338235294117646,\n",
       " 0.14562908496732024,\n",
       " 0.1523692810457516,\n",
       " 0.15400326797385622,\n",
       " 0.14971405228758167,\n",
       " 0.16217320261437906,\n",
       " 0.16319444444444448,\n",
       " 0.16584967320261434]"
      ]
     },
     "execution_count": 274,
     "metadata": {},
     "output_type": "execute_result"
    }
   ],
   "source": [
    "temp_input\n"
   ]
  },
  {
   "cell_type": "code",
   "execution_count": 275,
   "id": "6421e9a1-9ae6-4be6-bf6f-b6f03106d5dc",
   "metadata": {},
   "outputs": [
    {
     "name": "stdout",
     "output_type": "stream",
     "text": [
      "[0.16296402]\n",
      "101\n",
      "1 day input [0.13848039 0.14011438 0.13888889 0.13541667 0.14011438 0.1380719\n",
      " 0.13071895 0.13071895 0.12867647 0.11846405 0.14644608 0.14808007\n",
      " 0.15910948 0.15992647 0.15788399 0.16441993 0.17892157 0.17933007\n",
      " 0.19260621 0.20812908 0.18974673 0.18055556 0.18239379 0.17708333\n",
      " 0.17810458 0.18055556 0.17810458 0.17851307 0.19607843 0.18913399\n",
      " 0.18954248 0.19403595 0.19444444 0.20200163 0.19771242 0.19934641\n",
      " 0.19873366 0.1997549  0.2128268  0.21568627 0.20445261 0.21772876\n",
      " 0.21098856 0.21425654 0.19750817 0.18811275 0.17851307 0.17381536\n",
      " 0.16033497 0.16564542 0.17116013 0.17422386 0.18035131 0.17401961\n",
      " 0.16278595 0.16973039 0.17810458 0.17034314 0.16830065 0.17279412\n",
      " 0.17544935 0.18382353 0.19138072 0.18913399 0.19097222 0.17238562\n",
      " 0.16830065 0.1693219  0.17177288 0.16156046 0.14971405 0.1503268\n",
      " 0.15196078 0.14726307 0.14501634 0.14603758 0.12479575 0.13112745\n",
      " 0.11397059 0.1190768  0.12377451 0.13562092 0.12908497 0.13459967\n",
      " 0.12806373 0.13031046 0.12724673 0.13521242 0.14522059 0.15257353\n",
      " 0.14848856 0.14338235 0.14562908 0.15236928 0.15400327 0.14971405\n",
      " 0.1621732  0.16319444 0.16584967 0.16296402]\n",
      "1 day output [[0.1645295]]\n",
      "2 day input [0.14011438 0.13888889 0.13541667 0.14011438 0.1380719  0.13071895\n",
      " 0.13071895 0.12867647 0.11846405 0.14644608 0.14808007 0.15910948\n",
      " 0.15992647 0.15788399 0.16441993 0.17892157 0.17933007 0.19260621\n",
      " 0.20812908 0.18974673 0.18055556 0.18239379 0.17708333 0.17810458\n",
      " 0.18055556 0.17810458 0.17851307 0.19607843 0.18913399 0.18954248\n",
      " 0.19403595 0.19444444 0.20200163 0.19771242 0.19934641 0.19873366\n",
      " 0.1997549  0.2128268  0.21568627 0.20445261 0.21772876 0.21098856\n",
      " 0.21425654 0.19750817 0.18811275 0.17851307 0.17381536 0.16033497\n",
      " 0.16564542 0.17116013 0.17422386 0.18035131 0.17401961 0.16278595\n",
      " 0.16973039 0.17810458 0.17034314 0.16830065 0.17279412 0.17544935\n",
      " 0.18382353 0.19138072 0.18913399 0.19097222 0.17238562 0.16830065\n",
      " 0.1693219  0.17177288 0.16156046 0.14971405 0.1503268  0.15196078\n",
      " 0.14726307 0.14501634 0.14603758 0.12479575 0.13112745 0.11397059\n",
      " 0.1190768  0.12377451 0.13562092 0.12908497 0.13459967 0.12806373\n",
      " 0.13031046 0.12724673 0.13521242 0.14522059 0.15257353 0.14848856\n",
      " 0.14338235 0.14562908 0.15236928 0.15400327 0.14971405 0.1621732\n",
      " 0.16319444 0.16584967 0.16296402 0.1645295 ]\n",
      "2 day output [[0.16468242]]\n",
      "3 day input [0.13888889 0.13541667 0.14011438 0.1380719  0.13071895 0.13071895\n",
      " 0.12867647 0.11846405 0.14644608 0.14808007 0.15910948 0.15992647\n",
      " 0.15788399 0.16441993 0.17892157 0.17933007 0.19260621 0.20812908\n",
      " 0.18974673 0.18055556 0.18239379 0.17708333 0.17810458 0.18055556\n",
      " 0.17810458 0.17851307 0.19607843 0.18913399 0.18954248 0.19403595\n",
      " 0.19444444 0.20200163 0.19771242 0.19934641 0.19873366 0.1997549\n",
      " 0.2128268  0.21568627 0.20445261 0.21772876 0.21098856 0.21425654\n",
      " 0.19750817 0.18811275 0.17851307 0.17381536 0.16033497 0.16564542\n",
      " 0.17116013 0.17422386 0.18035131 0.17401961 0.16278595 0.16973039\n",
      " 0.17810458 0.17034314 0.16830065 0.17279412 0.17544935 0.18382353\n",
      " 0.19138072 0.18913399 0.19097222 0.17238562 0.16830065 0.1693219\n",
      " 0.17177288 0.16156046 0.14971405 0.1503268  0.15196078 0.14726307\n",
      " 0.14501634 0.14603758 0.12479575 0.13112745 0.11397059 0.1190768\n",
      " 0.12377451 0.13562092 0.12908497 0.13459967 0.12806373 0.13031046\n",
      " 0.12724673 0.13521242 0.14522059 0.15257353 0.14848856 0.14338235\n",
      " 0.14562908 0.15236928 0.15400327 0.14971405 0.1621732  0.16319444\n",
      " 0.16584967 0.16296402 0.1645295  0.16468242]\n",
      "3 day output [[0.16424723]]\n",
      "4 day input [0.13541667 0.14011438 0.1380719  0.13071895 0.13071895 0.12867647\n",
      " 0.11846405 0.14644608 0.14808007 0.15910948 0.15992647 0.15788399\n",
      " 0.16441993 0.17892157 0.17933007 0.19260621 0.20812908 0.18974673\n",
      " 0.18055556 0.18239379 0.17708333 0.17810458 0.18055556 0.17810458\n",
      " 0.17851307 0.19607843 0.18913399 0.18954248 0.19403595 0.19444444\n",
      " 0.20200163 0.19771242 0.19934641 0.19873366 0.1997549  0.2128268\n",
      " 0.21568627 0.20445261 0.21772876 0.21098856 0.21425654 0.19750817\n",
      " 0.18811275 0.17851307 0.17381536 0.16033497 0.16564542 0.17116013\n",
      " 0.17422386 0.18035131 0.17401961 0.16278595 0.16973039 0.17810458\n",
      " 0.17034314 0.16830065 0.17279412 0.17544935 0.18382353 0.19138072\n",
      " 0.18913399 0.19097222 0.17238562 0.16830065 0.1693219  0.17177288\n",
      " 0.16156046 0.14971405 0.1503268  0.15196078 0.14726307 0.14501634\n",
      " 0.14603758 0.12479575 0.13112745 0.11397059 0.1190768  0.12377451\n",
      " 0.13562092 0.12908497 0.13459967 0.12806373 0.13031046 0.12724673\n",
      " 0.13521242 0.14522059 0.15257353 0.14848856 0.14338235 0.14562908\n",
      " 0.15236928 0.15400327 0.14971405 0.1621732  0.16319444 0.16584967\n",
      " 0.16296402 0.1645295  0.16468242 0.16424723]\n",
      "4 day output [[0.16361745]]\n",
      "5 day input [0.14011438 0.1380719  0.13071895 0.13071895 0.12867647 0.11846405\n",
      " 0.14644608 0.14808007 0.15910948 0.15992647 0.15788399 0.16441993\n",
      " 0.17892157 0.17933007 0.19260621 0.20812908 0.18974673 0.18055556\n",
      " 0.18239379 0.17708333 0.17810458 0.18055556 0.17810458 0.17851307\n",
      " 0.19607843 0.18913399 0.18954248 0.19403595 0.19444444 0.20200163\n",
      " 0.19771242 0.19934641 0.19873366 0.1997549  0.2128268  0.21568627\n",
      " 0.20445261 0.21772876 0.21098856 0.21425654 0.19750817 0.18811275\n",
      " 0.17851307 0.17381536 0.16033497 0.16564542 0.17116013 0.17422386\n",
      " 0.18035131 0.17401961 0.16278595 0.16973039 0.17810458 0.17034314\n",
      " 0.16830065 0.17279412 0.17544935 0.18382353 0.19138072 0.18913399\n",
      " 0.19097222 0.17238562 0.16830065 0.1693219  0.17177288 0.16156046\n",
      " 0.14971405 0.1503268  0.15196078 0.14726307 0.14501634 0.14603758\n",
      " 0.12479575 0.13112745 0.11397059 0.1190768  0.12377451 0.13562092\n",
      " 0.12908497 0.13459967 0.12806373 0.13031046 0.12724673 0.13521242\n",
      " 0.14522059 0.15257353 0.14848856 0.14338235 0.14562908 0.15236928\n",
      " 0.15400327 0.14971405 0.1621732  0.16319444 0.16584967 0.16296402\n",
      " 0.1645295  0.16468242 0.16424723 0.16361745]\n",
      "5 day output [[0.16294579]]\n",
      "6 day input [0.1380719  0.13071895 0.13071895 0.12867647 0.11846405 0.14644608\n",
      " 0.14808007 0.15910948 0.15992647 0.15788399 0.16441993 0.17892157\n",
      " 0.17933007 0.19260621 0.20812908 0.18974673 0.18055556 0.18239379\n",
      " 0.17708333 0.17810458 0.18055556 0.17810458 0.17851307 0.19607843\n",
      " 0.18913399 0.18954248 0.19403595 0.19444444 0.20200163 0.19771242\n",
      " 0.19934641 0.19873366 0.1997549  0.2128268  0.21568627 0.20445261\n",
      " 0.21772876 0.21098856 0.21425654 0.19750817 0.18811275 0.17851307\n",
      " 0.17381536 0.16033497 0.16564542 0.17116013 0.17422386 0.18035131\n",
      " 0.17401961 0.16278595 0.16973039 0.17810458 0.17034314 0.16830065\n",
      " 0.17279412 0.17544935 0.18382353 0.19138072 0.18913399 0.19097222\n",
      " 0.17238562 0.16830065 0.1693219  0.17177288 0.16156046 0.14971405\n",
      " 0.1503268  0.15196078 0.14726307 0.14501634 0.14603758 0.12479575\n",
      " 0.13112745 0.11397059 0.1190768  0.12377451 0.13562092 0.12908497\n",
      " 0.13459967 0.12806373 0.13031046 0.12724673 0.13521242 0.14522059\n",
      " 0.15257353 0.14848856 0.14338235 0.14562908 0.15236928 0.15400327\n",
      " 0.14971405 0.1621732  0.16319444 0.16584967 0.16296402 0.1645295\n",
      " 0.16468242 0.16424723 0.16361745 0.16294579]\n",
      "6 day output [[0.1622942]]\n",
      "7 day input [0.13071895 0.13071895 0.12867647 0.11846405 0.14644608 0.14808007\n",
      " 0.15910948 0.15992647 0.15788399 0.16441993 0.17892157 0.17933007\n",
      " 0.19260621 0.20812908 0.18974673 0.18055556 0.18239379 0.17708333\n",
      " 0.17810458 0.18055556 0.17810458 0.17851307 0.19607843 0.18913399\n",
      " 0.18954248 0.19403595 0.19444444 0.20200163 0.19771242 0.19934641\n",
      " 0.19873366 0.1997549  0.2128268  0.21568627 0.20445261 0.21772876\n",
      " 0.21098856 0.21425654 0.19750817 0.18811275 0.17851307 0.17381536\n",
      " 0.16033497 0.16564542 0.17116013 0.17422386 0.18035131 0.17401961\n",
      " 0.16278595 0.16973039 0.17810458 0.17034314 0.16830065 0.17279412\n",
      " 0.17544935 0.18382353 0.19138072 0.18913399 0.19097222 0.17238562\n",
      " 0.16830065 0.1693219  0.17177288 0.16156046 0.14971405 0.1503268\n",
      " 0.15196078 0.14726307 0.14501634 0.14603758 0.12479575 0.13112745\n",
      " 0.11397059 0.1190768  0.12377451 0.13562092 0.12908497 0.13459967\n",
      " 0.12806373 0.13031046 0.12724673 0.13521242 0.14522059 0.15257353\n",
      " 0.14848856 0.14338235 0.14562908 0.15236928 0.15400327 0.14971405\n",
      " 0.1621732  0.16319444 0.16584967 0.16296402 0.1645295  0.16468242\n",
      " 0.16424723 0.16361745 0.16294579 0.16229419]\n",
      "7 day output [[0.16169395]]\n",
      "8 day input [0.13071895 0.12867647 0.11846405 0.14644608 0.14808007 0.15910948\n",
      " 0.15992647 0.15788399 0.16441993 0.17892157 0.17933007 0.19260621\n",
      " 0.20812908 0.18974673 0.18055556 0.18239379 0.17708333 0.17810458\n",
      " 0.18055556 0.17810458 0.17851307 0.19607843 0.18913399 0.18954248\n",
      " 0.19403595 0.19444444 0.20200163 0.19771242 0.19934641 0.19873366\n",
      " 0.1997549  0.2128268  0.21568627 0.20445261 0.21772876 0.21098856\n",
      " 0.21425654 0.19750817 0.18811275 0.17851307 0.17381536 0.16033497\n",
      " 0.16564542 0.17116013 0.17422386 0.18035131 0.17401961 0.16278595\n",
      " 0.16973039 0.17810458 0.17034314 0.16830065 0.17279412 0.17544935\n",
      " 0.18382353 0.19138072 0.18913399 0.19097222 0.17238562 0.16830065\n",
      " 0.1693219  0.17177288 0.16156046 0.14971405 0.1503268  0.15196078\n",
      " 0.14726307 0.14501634 0.14603758 0.12479575 0.13112745 0.11397059\n",
      " 0.1190768  0.12377451 0.13562092 0.12908497 0.13459967 0.12806373\n",
      " 0.13031046 0.12724673 0.13521242 0.14522059 0.15257353 0.14848856\n",
      " 0.14338235 0.14562908 0.15236928 0.15400327 0.14971405 0.1621732\n",
      " 0.16319444 0.16584967 0.16296402 0.1645295  0.16468242 0.16424723\n",
      " 0.16361745 0.16294579 0.16229419 0.16169395]\n",
      "8 day output [[0.16116175]]\n",
      "9 day input [0.12867647 0.11846405 0.14644608 0.14808007 0.15910948 0.15992647\n",
      " 0.15788399 0.16441993 0.17892157 0.17933007 0.19260621 0.20812908\n",
      " 0.18974673 0.18055556 0.18239379 0.17708333 0.17810458 0.18055556\n",
      " 0.17810458 0.17851307 0.19607843 0.18913399 0.18954248 0.19403595\n",
      " 0.19444444 0.20200163 0.19771242 0.19934641 0.19873366 0.1997549\n",
      " 0.2128268  0.21568627 0.20445261 0.21772876 0.21098856 0.21425654\n",
      " 0.19750817 0.18811275 0.17851307 0.17381536 0.16033497 0.16564542\n",
      " 0.17116013 0.17422386 0.18035131 0.17401961 0.16278595 0.16973039\n",
      " 0.17810458 0.17034314 0.16830065 0.17279412 0.17544935 0.18382353\n",
      " 0.19138072 0.18913399 0.19097222 0.17238562 0.16830065 0.1693219\n",
      " 0.17177288 0.16156046 0.14971405 0.1503268  0.15196078 0.14726307\n",
      " 0.14501634 0.14603758 0.12479575 0.13112745 0.11397059 0.1190768\n",
      " 0.12377451 0.13562092 0.12908497 0.13459967 0.12806373 0.13031046\n",
      " 0.12724673 0.13521242 0.14522059 0.15257353 0.14848856 0.14338235\n",
      " 0.14562908 0.15236928 0.15400327 0.14971405 0.1621732  0.16319444\n",
      " 0.16584967 0.16296402 0.1645295  0.16468242 0.16424723 0.16361745\n",
      " 0.16294579 0.16229419 0.16169395 0.16116175]\n",
      "9 day output [[0.16070321]]\n",
      "10 day input [0.11846405 0.14644608 0.14808007 0.15910948 0.15992647 0.15788399\n",
      " 0.16441993 0.17892157 0.17933007 0.19260621 0.20812908 0.18974673\n",
      " 0.18055556 0.18239379 0.17708333 0.17810458 0.18055556 0.17810458\n",
      " 0.17851307 0.19607843 0.18913399 0.18954248 0.19403595 0.19444444\n",
      " 0.20200163 0.19771242 0.19934641 0.19873366 0.1997549  0.2128268\n",
      " 0.21568627 0.20445261 0.21772876 0.21098856 0.21425654 0.19750817\n",
      " 0.18811275 0.17851307 0.17381536 0.16033497 0.16564542 0.17116013\n",
      " 0.17422386 0.18035131 0.17401961 0.16278595 0.16973039 0.17810458\n",
      " 0.17034314 0.16830065 0.17279412 0.17544935 0.18382353 0.19138072\n",
      " 0.18913399 0.19097222 0.17238562 0.16830065 0.1693219  0.17177288\n",
      " 0.16156046 0.14971405 0.1503268  0.15196078 0.14726307 0.14501634\n",
      " 0.14603758 0.12479575 0.13112745 0.11397059 0.1190768  0.12377451\n",
      " 0.13562092 0.12908497 0.13459967 0.12806373 0.13031046 0.12724673\n",
      " 0.13521242 0.14522059 0.15257353 0.14848856 0.14338235 0.14562908\n",
      " 0.15236928 0.15400327 0.14971405 0.1621732  0.16319444 0.16584967\n",
      " 0.16296402 0.1645295  0.16468242 0.16424723 0.16361745 0.16294579\n",
      " 0.16229419 0.16169395 0.16116175 0.16070321]\n",
      "10 day output [[0.16031496]]\n",
      "11 day input [0.14644608 0.14808007 0.15910948 0.15992647 0.15788399 0.16441993\n",
      " 0.17892157 0.17933007 0.19260621 0.20812908 0.18974673 0.18055556\n",
      " 0.18239379 0.17708333 0.17810458 0.18055556 0.17810458 0.17851307\n",
      " 0.19607843 0.18913399 0.18954248 0.19403595 0.19444444 0.20200163\n",
      " 0.19771242 0.19934641 0.19873366 0.1997549  0.2128268  0.21568627\n",
      " 0.20445261 0.21772876 0.21098856 0.21425654 0.19750817 0.18811275\n",
      " 0.17851307 0.17381536 0.16033497 0.16564542 0.17116013 0.17422386\n",
      " 0.18035131 0.17401961 0.16278595 0.16973039 0.17810458 0.17034314\n",
      " 0.16830065 0.17279412 0.17544935 0.18382353 0.19138072 0.18913399\n",
      " 0.19097222 0.17238562 0.16830065 0.1693219  0.17177288 0.16156046\n",
      " 0.14971405 0.1503268  0.15196078 0.14726307 0.14501634 0.14603758\n",
      " 0.12479575 0.13112745 0.11397059 0.1190768  0.12377451 0.13562092\n",
      " 0.12908497 0.13459967 0.12806373 0.13031046 0.12724673 0.13521242\n",
      " 0.14522059 0.15257353 0.14848856 0.14338235 0.14562908 0.15236928\n",
      " 0.15400327 0.14971405 0.1621732  0.16319444 0.16584967 0.16296402\n",
      " 0.1645295  0.16468242 0.16424723 0.16361745 0.16294579 0.16229419\n",
      " 0.16169395 0.16116175 0.16070321 0.16031496]\n",
      "11 day output [[0.15998815]]\n",
      "12 day input [0.14808007 0.15910948 0.15992647 0.15788399 0.16441993 0.17892157\n",
      " 0.17933007 0.19260621 0.20812908 0.18974673 0.18055556 0.18239379\n",
      " 0.17708333 0.17810458 0.18055556 0.17810458 0.17851307 0.19607843\n",
      " 0.18913399 0.18954248 0.19403595 0.19444444 0.20200163 0.19771242\n",
      " 0.19934641 0.19873366 0.1997549  0.2128268  0.21568627 0.20445261\n",
      " 0.21772876 0.21098856 0.21425654 0.19750817 0.18811275 0.17851307\n",
      " 0.17381536 0.16033497 0.16564542 0.17116013 0.17422386 0.18035131\n",
      " 0.17401961 0.16278595 0.16973039 0.17810458 0.17034314 0.16830065\n",
      " 0.17279412 0.17544935 0.18382353 0.19138072 0.18913399 0.19097222\n",
      " 0.17238562 0.16830065 0.1693219  0.17177288 0.16156046 0.14971405\n",
      " 0.1503268  0.15196078 0.14726307 0.14501634 0.14603758 0.12479575\n",
      " 0.13112745 0.11397059 0.1190768  0.12377451 0.13562092 0.12908497\n",
      " 0.13459967 0.12806373 0.13031046 0.12724673 0.13521242 0.14522059\n",
      " 0.15257353 0.14848856 0.14338235 0.14562908 0.15236928 0.15400327\n",
      " 0.14971405 0.1621732  0.16319444 0.16584967 0.16296402 0.1645295\n",
      " 0.16468242 0.16424723 0.16361745 0.16294579 0.16229419 0.16169395\n",
      " 0.16116175 0.16070321 0.16031496 0.15998815]\n",
      "12 day output [[0.15971127]]\n",
      "13 day input [0.15910948 0.15992647 0.15788399 0.16441993 0.17892157 0.17933007\n",
      " 0.19260621 0.20812908 0.18974673 0.18055556 0.18239379 0.17708333\n",
      " 0.17810458 0.18055556 0.17810458 0.17851307 0.19607843 0.18913399\n",
      " 0.18954248 0.19403595 0.19444444 0.20200163 0.19771242 0.19934641\n",
      " 0.19873366 0.1997549  0.2128268  0.21568627 0.20445261 0.21772876\n",
      " 0.21098856 0.21425654 0.19750817 0.18811275 0.17851307 0.17381536\n",
      " 0.16033497 0.16564542 0.17116013 0.17422386 0.18035131 0.17401961\n",
      " 0.16278595 0.16973039 0.17810458 0.17034314 0.16830065 0.17279412\n",
      " 0.17544935 0.18382353 0.19138072 0.18913399 0.19097222 0.17238562\n",
      " 0.16830065 0.1693219  0.17177288 0.16156046 0.14971405 0.1503268\n",
      " 0.15196078 0.14726307 0.14501634 0.14603758 0.12479575 0.13112745\n",
      " 0.11397059 0.1190768  0.12377451 0.13562092 0.12908497 0.13459967\n",
      " 0.12806373 0.13031046 0.12724673 0.13521242 0.14522059 0.15257353\n",
      " 0.14848856 0.14338235 0.14562908 0.15236928 0.15400327 0.14971405\n",
      " 0.1621732  0.16319444 0.16584967 0.16296402 0.1645295  0.16468242\n",
      " 0.16424723 0.16361745 0.16294579 0.16229419 0.16169395 0.16116175\n",
      " 0.16070321 0.16031496 0.15998815 0.15971127]\n",
      "13 day output [[0.15947293]]\n",
      "14 day input [0.15992647 0.15788399 0.16441993 0.17892157 0.17933007 0.19260621\n",
      " 0.20812908 0.18974673 0.18055556 0.18239379 0.17708333 0.17810458\n",
      " 0.18055556 0.17810458 0.17851307 0.19607843 0.18913399 0.18954248\n",
      " 0.19403595 0.19444444 0.20200163 0.19771242 0.19934641 0.19873366\n",
      " 0.1997549  0.2128268  0.21568627 0.20445261 0.21772876 0.21098856\n",
      " 0.21425654 0.19750817 0.18811275 0.17851307 0.17381536 0.16033497\n",
      " 0.16564542 0.17116013 0.17422386 0.18035131 0.17401961 0.16278595\n",
      " 0.16973039 0.17810458 0.17034314 0.16830065 0.17279412 0.17544935\n",
      " 0.18382353 0.19138072 0.18913399 0.19097222 0.17238562 0.16830065\n",
      " 0.1693219  0.17177288 0.16156046 0.14971405 0.1503268  0.15196078\n",
      " 0.14726307 0.14501634 0.14603758 0.12479575 0.13112745 0.11397059\n",
      " 0.1190768  0.12377451 0.13562092 0.12908497 0.13459967 0.12806373\n",
      " 0.13031046 0.12724673 0.13521242 0.14522059 0.15257353 0.14848856\n",
      " 0.14338235 0.14562908 0.15236928 0.15400327 0.14971405 0.1621732\n",
      " 0.16319444 0.16584967 0.16296402 0.1645295  0.16468242 0.16424723\n",
      " 0.16361745 0.16294579 0.16229419 0.16169395 0.16116175 0.16070321\n",
      " 0.16031496 0.15998815 0.15971127 0.15947293]\n",
      "14 day output [[0.15926324]]\n",
      "15 day input [0.15788399 0.16441993 0.17892157 0.17933007 0.19260621 0.20812908\n",
      " 0.18974673 0.18055556 0.18239379 0.17708333 0.17810458 0.18055556\n",
      " 0.17810458 0.17851307 0.19607843 0.18913399 0.18954248 0.19403595\n",
      " 0.19444444 0.20200163 0.19771242 0.19934641 0.19873366 0.1997549\n",
      " 0.2128268  0.21568627 0.20445261 0.21772876 0.21098856 0.21425654\n",
      " 0.19750817 0.18811275 0.17851307 0.17381536 0.16033497 0.16564542\n",
      " 0.17116013 0.17422386 0.18035131 0.17401961 0.16278595 0.16973039\n",
      " 0.17810458 0.17034314 0.16830065 0.17279412 0.17544935 0.18382353\n",
      " 0.19138072 0.18913399 0.19097222 0.17238562 0.16830065 0.1693219\n",
      " 0.17177288 0.16156046 0.14971405 0.1503268  0.15196078 0.14726307\n",
      " 0.14501634 0.14603758 0.12479575 0.13112745 0.11397059 0.1190768\n",
      " 0.12377451 0.13562092 0.12908497 0.13459967 0.12806373 0.13031046\n",
      " 0.12724673 0.13521242 0.14522059 0.15257353 0.14848856 0.14338235\n",
      " 0.14562908 0.15236928 0.15400327 0.14971405 0.1621732  0.16319444\n",
      " 0.16584967 0.16296402 0.1645295  0.16468242 0.16424723 0.16361745\n",
      " 0.16294579 0.16229419 0.16169395 0.16116175 0.16070321 0.16031496\n",
      " 0.15998815 0.15971127 0.15947293 0.15926324]\n",
      "15 day output [[0.15907481]]\n",
      "16 day input [0.16441993 0.17892157 0.17933007 0.19260621 0.20812908 0.18974673\n",
      " 0.18055556 0.18239379 0.17708333 0.17810458 0.18055556 0.17810458\n",
      " 0.17851307 0.19607843 0.18913399 0.18954248 0.19403595 0.19444444\n",
      " 0.20200163 0.19771242 0.19934641 0.19873366 0.1997549  0.2128268\n",
      " 0.21568627 0.20445261 0.21772876 0.21098856 0.21425654 0.19750817\n",
      " 0.18811275 0.17851307 0.17381536 0.16033497 0.16564542 0.17116013\n",
      " 0.17422386 0.18035131 0.17401961 0.16278595 0.16973039 0.17810458\n",
      " 0.17034314 0.16830065 0.17279412 0.17544935 0.18382353 0.19138072\n",
      " 0.18913399 0.19097222 0.17238562 0.16830065 0.1693219  0.17177288\n",
      " 0.16156046 0.14971405 0.1503268  0.15196078 0.14726307 0.14501634\n",
      " 0.14603758 0.12479575 0.13112745 0.11397059 0.1190768  0.12377451\n",
      " 0.13562092 0.12908497 0.13459967 0.12806373 0.13031046 0.12724673\n",
      " 0.13521242 0.14522059 0.15257353 0.14848856 0.14338235 0.14562908\n",
      " 0.15236928 0.15400327 0.14971405 0.1621732  0.16319444 0.16584967\n",
      " 0.16296402 0.1645295  0.16468242 0.16424723 0.16361745 0.16294579\n",
      " 0.16229419 0.16169395 0.16116175 0.16070321 0.16031496 0.15998815\n",
      " 0.15971127 0.15947293 0.15926324 0.15907481]\n",
      "16 day output [[0.15890245]]\n",
      "17 day input [0.17892157 0.17933007 0.19260621 0.20812908 0.18974673 0.18055556\n",
      " 0.18239379 0.17708333 0.17810458 0.18055556 0.17810458 0.17851307\n",
      " 0.19607843 0.18913399 0.18954248 0.19403595 0.19444444 0.20200163\n",
      " 0.19771242 0.19934641 0.19873366 0.1997549  0.2128268  0.21568627\n",
      " 0.20445261 0.21772876 0.21098856 0.21425654 0.19750817 0.18811275\n",
      " 0.17851307 0.17381536 0.16033497 0.16564542 0.17116013 0.17422386\n",
      " 0.18035131 0.17401961 0.16278595 0.16973039 0.17810458 0.17034314\n",
      " 0.16830065 0.17279412 0.17544935 0.18382353 0.19138072 0.18913399\n",
      " 0.19097222 0.17238562 0.16830065 0.1693219  0.17177288 0.16156046\n",
      " 0.14971405 0.1503268  0.15196078 0.14726307 0.14501634 0.14603758\n",
      " 0.12479575 0.13112745 0.11397059 0.1190768  0.12377451 0.13562092\n",
      " 0.12908497 0.13459967 0.12806373 0.13031046 0.12724673 0.13521242\n",
      " 0.14522059 0.15257353 0.14848856 0.14338235 0.14562908 0.15236928\n",
      " 0.15400327 0.14971405 0.1621732  0.16319444 0.16584967 0.16296402\n",
      " 0.1645295  0.16468242 0.16424723 0.16361745 0.16294579 0.16229419\n",
      " 0.16169395 0.16116175 0.16070321 0.16031496 0.15998815 0.15971127\n",
      " 0.15947293 0.15926324 0.15907481 0.15890245]\n",
      "17 day output [[0.15874326]]\n",
      "18 day input [0.17933007 0.19260621 0.20812908 0.18974673 0.18055556 0.18239379\n",
      " 0.17708333 0.17810458 0.18055556 0.17810458 0.17851307 0.19607843\n",
      " 0.18913399 0.18954248 0.19403595 0.19444444 0.20200163 0.19771242\n",
      " 0.19934641 0.19873366 0.1997549  0.2128268  0.21568627 0.20445261\n",
      " 0.21772876 0.21098856 0.21425654 0.19750817 0.18811275 0.17851307\n",
      " 0.17381536 0.16033497 0.16564542 0.17116013 0.17422386 0.18035131\n",
      " 0.17401961 0.16278595 0.16973039 0.17810458 0.17034314 0.16830065\n",
      " 0.17279412 0.17544935 0.18382353 0.19138072 0.18913399 0.19097222\n",
      " 0.17238562 0.16830065 0.1693219  0.17177288 0.16156046 0.14971405\n",
      " 0.1503268  0.15196078 0.14726307 0.14501634 0.14603758 0.12479575\n",
      " 0.13112745 0.11397059 0.1190768  0.12377451 0.13562092 0.12908497\n",
      " 0.13459967 0.12806373 0.13031046 0.12724673 0.13521242 0.14522059\n",
      " 0.15257353 0.14848856 0.14338235 0.14562908 0.15236928 0.15400327\n",
      " 0.14971405 0.1621732  0.16319444 0.16584967 0.16296402 0.1645295\n",
      " 0.16468242 0.16424723 0.16361745 0.16294579 0.16229419 0.16169395\n",
      " 0.16116175 0.16070321 0.16031496 0.15998815 0.15971127 0.15947293\n",
      " 0.15926324 0.15907481 0.15890245 0.15874326]\n",
      "18 day output [[0.15859593]]\n",
      "19 day input [0.19260621 0.20812908 0.18974673 0.18055556 0.18239379 0.17708333\n",
      " 0.17810458 0.18055556 0.17810458 0.17851307 0.19607843 0.18913399\n",
      " 0.18954248 0.19403595 0.19444444 0.20200163 0.19771242 0.19934641\n",
      " 0.19873366 0.1997549  0.2128268  0.21568627 0.20445261 0.21772876\n",
      " 0.21098856 0.21425654 0.19750817 0.18811275 0.17851307 0.17381536\n",
      " 0.16033497 0.16564542 0.17116013 0.17422386 0.18035131 0.17401961\n",
      " 0.16278595 0.16973039 0.17810458 0.17034314 0.16830065 0.17279412\n",
      " 0.17544935 0.18382353 0.19138072 0.18913399 0.19097222 0.17238562\n",
      " 0.16830065 0.1693219  0.17177288 0.16156046 0.14971405 0.1503268\n",
      " 0.15196078 0.14726307 0.14501634 0.14603758 0.12479575 0.13112745\n",
      " 0.11397059 0.1190768  0.12377451 0.13562092 0.12908497 0.13459967\n",
      " 0.12806373 0.13031046 0.12724673 0.13521242 0.14522059 0.15257353\n",
      " 0.14848856 0.14338235 0.14562908 0.15236928 0.15400327 0.14971405\n",
      " 0.1621732  0.16319444 0.16584967 0.16296402 0.1645295  0.16468242\n",
      " 0.16424723 0.16361745 0.16294579 0.16229419 0.16169395 0.16116175\n",
      " 0.16070321 0.16031496 0.15998815 0.15971127 0.15947293 0.15926324\n",
      " 0.15907481 0.15890245 0.15874326 0.15859593]\n",
      "19 day output [[0.1584602]]\n",
      "20 day input [0.20812908 0.18974673 0.18055556 0.18239379 0.17708333 0.17810458\n",
      " 0.18055556 0.17810458 0.17851307 0.19607843 0.18913399 0.18954248\n",
      " 0.19403595 0.19444444 0.20200163 0.19771242 0.19934641 0.19873366\n",
      " 0.1997549  0.2128268  0.21568627 0.20445261 0.21772876 0.21098856\n",
      " 0.21425654 0.19750817 0.18811275 0.17851307 0.17381536 0.16033497\n",
      " 0.16564542 0.17116013 0.17422386 0.18035131 0.17401961 0.16278595\n",
      " 0.16973039 0.17810458 0.17034314 0.16830065 0.17279412 0.17544935\n",
      " 0.18382353 0.19138072 0.18913399 0.19097222 0.17238562 0.16830065\n",
      " 0.1693219  0.17177288 0.16156046 0.14971405 0.1503268  0.15196078\n",
      " 0.14726307 0.14501634 0.14603758 0.12479575 0.13112745 0.11397059\n",
      " 0.1190768  0.12377451 0.13562092 0.12908497 0.13459967 0.12806373\n",
      " 0.13031046 0.12724673 0.13521242 0.14522059 0.15257353 0.14848856\n",
      " 0.14338235 0.14562908 0.15236928 0.15400327 0.14971405 0.1621732\n",
      " 0.16319444 0.16584967 0.16296402 0.1645295  0.16468242 0.16424723\n",
      " 0.16361745 0.16294579 0.16229419 0.16169395 0.16116175 0.16070321\n",
      " 0.16031496 0.15998815 0.15971127 0.15947293 0.15926324 0.15907481\n",
      " 0.15890245 0.15874326 0.15859593 0.1584602 ]\n",
      "20 day output [[0.15833643]]\n",
      "21 day input [0.18974673 0.18055556 0.18239379 0.17708333 0.17810458 0.18055556\n",
      " 0.17810458 0.17851307 0.19607843 0.18913399 0.18954248 0.19403595\n",
      " 0.19444444 0.20200163 0.19771242 0.19934641 0.19873366 0.1997549\n",
      " 0.2128268  0.21568627 0.20445261 0.21772876 0.21098856 0.21425654\n",
      " 0.19750817 0.18811275 0.17851307 0.17381536 0.16033497 0.16564542\n",
      " 0.17116013 0.17422386 0.18035131 0.17401961 0.16278595 0.16973039\n",
      " 0.17810458 0.17034314 0.16830065 0.17279412 0.17544935 0.18382353\n",
      " 0.19138072 0.18913399 0.19097222 0.17238562 0.16830065 0.1693219\n",
      " 0.17177288 0.16156046 0.14971405 0.1503268  0.15196078 0.14726307\n",
      " 0.14501634 0.14603758 0.12479575 0.13112745 0.11397059 0.1190768\n",
      " 0.12377451 0.13562092 0.12908497 0.13459967 0.12806373 0.13031046\n",
      " 0.12724673 0.13521242 0.14522059 0.15257353 0.14848856 0.14338235\n",
      " 0.14562908 0.15236928 0.15400327 0.14971405 0.1621732  0.16319444\n",
      " 0.16584967 0.16296402 0.1645295  0.16468242 0.16424723 0.16361745\n",
      " 0.16294579 0.16229419 0.16169395 0.16116175 0.16070321 0.16031496\n",
      " 0.15998815 0.15971127 0.15947293 0.15926324 0.15907481 0.15890245\n",
      " 0.15874326 0.15859593 0.1584602  0.15833643]\n",
      "21 day output [[0.15822506]]\n",
      "22 day input [0.18055556 0.18239379 0.17708333 0.17810458 0.18055556 0.17810458\n",
      " 0.17851307 0.19607843 0.18913399 0.18954248 0.19403595 0.19444444\n",
      " 0.20200163 0.19771242 0.19934641 0.19873366 0.1997549  0.2128268\n",
      " 0.21568627 0.20445261 0.21772876 0.21098856 0.21425654 0.19750817\n",
      " 0.18811275 0.17851307 0.17381536 0.16033497 0.16564542 0.17116013\n",
      " 0.17422386 0.18035131 0.17401961 0.16278595 0.16973039 0.17810458\n",
      " 0.17034314 0.16830065 0.17279412 0.17544935 0.18382353 0.19138072\n",
      " 0.18913399 0.19097222 0.17238562 0.16830065 0.1693219  0.17177288\n",
      " 0.16156046 0.14971405 0.1503268  0.15196078 0.14726307 0.14501634\n",
      " 0.14603758 0.12479575 0.13112745 0.11397059 0.1190768  0.12377451\n",
      " 0.13562092 0.12908497 0.13459967 0.12806373 0.13031046 0.12724673\n",
      " 0.13521242 0.14522059 0.15257353 0.14848856 0.14338235 0.14562908\n",
      " 0.15236928 0.15400327 0.14971405 0.1621732  0.16319444 0.16584967\n",
      " 0.16296402 0.1645295  0.16468242 0.16424723 0.16361745 0.16294579\n",
      " 0.16229419 0.16169395 0.16116175 0.16070321 0.16031496 0.15998815\n",
      " 0.15971127 0.15947293 0.15926324 0.15907481 0.15890245 0.15874326\n",
      " 0.15859593 0.1584602  0.15833643 0.15822506]\n",
      "22 day output [[0.15812637]]\n",
      "23 day input [0.18239379 0.17708333 0.17810458 0.18055556 0.17810458 0.17851307\n",
      " 0.19607843 0.18913399 0.18954248 0.19403595 0.19444444 0.20200163\n",
      " 0.19771242 0.19934641 0.19873366 0.1997549  0.2128268  0.21568627\n",
      " 0.20445261 0.21772876 0.21098856 0.21425654 0.19750817 0.18811275\n",
      " 0.17851307 0.17381536 0.16033497 0.16564542 0.17116013 0.17422386\n",
      " 0.18035131 0.17401961 0.16278595 0.16973039 0.17810458 0.17034314\n",
      " 0.16830065 0.17279412 0.17544935 0.18382353 0.19138072 0.18913399\n",
      " 0.19097222 0.17238562 0.16830065 0.1693219  0.17177288 0.16156046\n",
      " 0.14971405 0.1503268  0.15196078 0.14726307 0.14501634 0.14603758\n",
      " 0.12479575 0.13112745 0.11397059 0.1190768  0.12377451 0.13562092\n",
      " 0.12908497 0.13459967 0.12806373 0.13031046 0.12724673 0.13521242\n",
      " 0.14522059 0.15257353 0.14848856 0.14338235 0.14562908 0.15236928\n",
      " 0.15400327 0.14971405 0.1621732  0.16319444 0.16584967 0.16296402\n",
      " 0.1645295  0.16468242 0.16424723 0.16361745 0.16294579 0.16229419\n",
      " 0.16169395 0.16116175 0.16070321 0.16031496 0.15998815 0.15971127\n",
      " 0.15947293 0.15926324 0.15907481 0.15890245 0.15874326 0.15859593\n",
      " 0.1584602  0.15833643 0.15822506 0.15812637]\n",
      "23 day output [[0.15804033]]\n",
      "24 day input [0.17708333 0.17810458 0.18055556 0.17810458 0.17851307 0.19607843\n",
      " 0.18913399 0.18954248 0.19403595 0.19444444 0.20200163 0.19771242\n",
      " 0.19934641 0.19873366 0.1997549  0.2128268  0.21568627 0.20445261\n",
      " 0.21772876 0.21098856 0.21425654 0.19750817 0.18811275 0.17851307\n",
      " 0.17381536 0.16033497 0.16564542 0.17116013 0.17422386 0.18035131\n",
      " 0.17401961 0.16278595 0.16973039 0.17810458 0.17034314 0.16830065\n",
      " 0.17279412 0.17544935 0.18382353 0.19138072 0.18913399 0.19097222\n",
      " 0.17238562 0.16830065 0.1693219  0.17177288 0.16156046 0.14971405\n",
      " 0.1503268  0.15196078 0.14726307 0.14501634 0.14603758 0.12479575\n",
      " 0.13112745 0.11397059 0.1190768  0.12377451 0.13562092 0.12908497\n",
      " 0.13459967 0.12806373 0.13031046 0.12724673 0.13521242 0.14522059\n",
      " 0.15257353 0.14848856 0.14338235 0.14562908 0.15236928 0.15400327\n",
      " 0.14971405 0.1621732  0.16319444 0.16584967 0.16296402 0.1645295\n",
      " 0.16468242 0.16424723 0.16361745 0.16294579 0.16229419 0.16169395\n",
      " 0.16116175 0.16070321 0.16031496 0.15998815 0.15971127 0.15947293\n",
      " 0.15926324 0.15907481 0.15890245 0.15874326 0.15859593 0.1584602\n",
      " 0.15833643 0.15822506 0.15812637 0.15804033]\n",
      "24 day output [[0.15796646]]\n",
      "25 day input [0.17810458 0.18055556 0.17810458 0.17851307 0.19607843 0.18913399\n",
      " 0.18954248 0.19403595 0.19444444 0.20200163 0.19771242 0.19934641\n",
      " 0.19873366 0.1997549  0.2128268  0.21568627 0.20445261 0.21772876\n",
      " 0.21098856 0.21425654 0.19750817 0.18811275 0.17851307 0.17381536\n",
      " 0.16033497 0.16564542 0.17116013 0.17422386 0.18035131 0.17401961\n",
      " 0.16278595 0.16973039 0.17810458 0.17034314 0.16830065 0.17279412\n",
      " 0.17544935 0.18382353 0.19138072 0.18913399 0.19097222 0.17238562\n",
      " 0.16830065 0.1693219  0.17177288 0.16156046 0.14971405 0.1503268\n",
      " 0.15196078 0.14726307 0.14501634 0.14603758 0.12479575 0.13112745\n",
      " 0.11397059 0.1190768  0.12377451 0.13562092 0.12908497 0.13459967\n",
      " 0.12806373 0.13031046 0.12724673 0.13521242 0.14522059 0.15257353\n",
      " 0.14848856 0.14338235 0.14562908 0.15236928 0.15400327 0.14971405\n",
      " 0.1621732  0.16319444 0.16584967 0.16296402 0.1645295  0.16468242\n",
      " 0.16424723 0.16361745 0.16294579 0.16229419 0.16169395 0.16116175\n",
      " 0.16070321 0.16031496 0.15998815 0.15971127 0.15947293 0.15926324\n",
      " 0.15907481 0.15890245 0.15874326 0.15859593 0.1584602  0.15833643\n",
      " 0.15822506 0.15812637 0.15804033 0.15796646]\n",
      "25 day output [[0.15790398]]\n",
      "26 day input [0.18055556 0.17810458 0.17851307 0.19607843 0.18913399 0.18954248\n",
      " 0.19403595 0.19444444 0.20200163 0.19771242 0.19934641 0.19873366\n",
      " 0.1997549  0.2128268  0.21568627 0.20445261 0.21772876 0.21098856\n",
      " 0.21425654 0.19750817 0.18811275 0.17851307 0.17381536 0.16033497\n",
      " 0.16564542 0.17116013 0.17422386 0.18035131 0.17401961 0.16278595\n",
      " 0.16973039 0.17810458 0.17034314 0.16830065 0.17279412 0.17544935\n",
      " 0.18382353 0.19138072 0.18913399 0.19097222 0.17238562 0.16830065\n",
      " 0.1693219  0.17177288 0.16156046 0.14971405 0.1503268  0.15196078\n",
      " 0.14726307 0.14501634 0.14603758 0.12479575 0.13112745 0.11397059\n",
      " 0.1190768  0.12377451 0.13562092 0.12908497 0.13459967 0.12806373\n",
      " 0.13031046 0.12724673 0.13521242 0.14522059 0.15257353 0.14848856\n",
      " 0.14338235 0.14562908 0.15236928 0.15400327 0.14971405 0.1621732\n",
      " 0.16319444 0.16584967 0.16296402 0.1645295  0.16468242 0.16424723\n",
      " 0.16361745 0.16294579 0.16229419 0.16169395 0.16116175 0.16070321\n",
      " 0.16031496 0.15998815 0.15971127 0.15947293 0.15926324 0.15907481\n",
      " 0.15890245 0.15874326 0.15859593 0.1584602  0.15833643 0.15822506\n",
      " 0.15812637 0.15804033 0.15796646 0.15790398]\n",
      "26 day output [[0.15785183]]\n",
      "27 day input [0.17810458 0.17851307 0.19607843 0.18913399 0.18954248 0.19403595\n",
      " 0.19444444 0.20200163 0.19771242 0.19934641 0.19873366 0.1997549\n",
      " 0.2128268  0.21568627 0.20445261 0.21772876 0.21098856 0.21425654\n",
      " 0.19750817 0.18811275 0.17851307 0.17381536 0.16033497 0.16564542\n",
      " 0.17116013 0.17422386 0.18035131 0.17401961 0.16278595 0.16973039\n",
      " 0.17810458 0.17034314 0.16830065 0.17279412 0.17544935 0.18382353\n",
      " 0.19138072 0.18913399 0.19097222 0.17238562 0.16830065 0.1693219\n",
      " 0.17177288 0.16156046 0.14971405 0.1503268  0.15196078 0.14726307\n",
      " 0.14501634 0.14603758 0.12479575 0.13112745 0.11397059 0.1190768\n",
      " 0.12377451 0.13562092 0.12908497 0.13459967 0.12806373 0.13031046\n",
      " 0.12724673 0.13521242 0.14522059 0.15257353 0.14848856 0.14338235\n",
      " 0.14562908 0.15236928 0.15400327 0.14971405 0.1621732  0.16319444\n",
      " 0.16584967 0.16296402 0.1645295  0.16468242 0.16424723 0.16361745\n",
      " 0.16294579 0.16229419 0.16169395 0.16116175 0.16070321 0.16031496\n",
      " 0.15998815 0.15971127 0.15947293 0.15926324 0.15907481 0.15890245\n",
      " 0.15874326 0.15859593 0.1584602  0.15833643 0.15822506 0.15812637\n",
      " 0.15804033 0.15796646 0.15790398 0.15785183]\n",
      "27 day output [[0.15780866]]\n",
      "28 day input [0.17851307 0.19607843 0.18913399 0.18954248 0.19403595 0.19444444\n",
      " 0.20200163 0.19771242 0.19934641 0.19873366 0.1997549  0.2128268\n",
      " 0.21568627 0.20445261 0.21772876 0.21098856 0.21425654 0.19750817\n",
      " 0.18811275 0.17851307 0.17381536 0.16033497 0.16564542 0.17116013\n",
      " 0.17422386 0.18035131 0.17401961 0.16278595 0.16973039 0.17810458\n",
      " 0.17034314 0.16830065 0.17279412 0.17544935 0.18382353 0.19138072\n",
      " 0.18913399 0.19097222 0.17238562 0.16830065 0.1693219  0.17177288\n",
      " 0.16156046 0.14971405 0.1503268  0.15196078 0.14726307 0.14501634\n",
      " 0.14603758 0.12479575 0.13112745 0.11397059 0.1190768  0.12377451\n",
      " 0.13562092 0.12908497 0.13459967 0.12806373 0.13031046 0.12724673\n",
      " 0.13521242 0.14522059 0.15257353 0.14848856 0.14338235 0.14562908\n",
      " 0.15236928 0.15400327 0.14971405 0.1621732  0.16319444 0.16584967\n",
      " 0.16296402 0.1645295  0.16468242 0.16424723 0.16361745 0.16294579\n",
      " 0.16229419 0.16169395 0.16116175 0.16070321 0.16031496 0.15998815\n",
      " 0.15971127 0.15947293 0.15926324 0.15907481 0.15890245 0.15874326\n",
      " 0.15859593 0.1584602  0.15833643 0.15822506 0.15812637 0.15804033\n",
      " 0.15796646 0.15790398 0.15785183 0.15780866]\n",
      "28 day output [[0.15777309]]\n",
      "29 day input [0.19607843 0.18913399 0.18954248 0.19403595 0.19444444 0.20200163\n",
      " 0.19771242 0.19934641 0.19873366 0.1997549  0.2128268  0.21568627\n",
      " 0.20445261 0.21772876 0.21098856 0.21425654 0.19750817 0.18811275\n",
      " 0.17851307 0.17381536 0.16033497 0.16564542 0.17116013 0.17422386\n",
      " 0.18035131 0.17401961 0.16278595 0.16973039 0.17810458 0.17034314\n",
      " 0.16830065 0.17279412 0.17544935 0.18382353 0.19138072 0.18913399\n",
      " 0.19097222 0.17238562 0.16830065 0.1693219  0.17177288 0.16156046\n",
      " 0.14971405 0.1503268  0.15196078 0.14726307 0.14501634 0.14603758\n",
      " 0.12479575 0.13112745 0.11397059 0.1190768  0.12377451 0.13562092\n",
      " 0.12908497 0.13459967 0.12806373 0.13031046 0.12724673 0.13521242\n",
      " 0.14522059 0.15257353 0.14848856 0.14338235 0.14562908 0.15236928\n",
      " 0.15400327 0.14971405 0.1621732  0.16319444 0.16584967 0.16296402\n",
      " 0.1645295  0.16468242 0.16424723 0.16361745 0.16294579 0.16229419\n",
      " 0.16169395 0.16116175 0.16070321 0.16031496 0.15998815 0.15971127\n",
      " 0.15947293 0.15926324 0.15907481 0.15890245 0.15874326 0.15859593\n",
      " 0.1584602  0.15833643 0.15822506 0.15812637 0.15804033 0.15796646\n",
      " 0.15790398 0.15785183 0.15780866 0.15777309]\n",
      "29 day output [[0.15774381]]\n",
      "[[0.16296401619911194], [0.16452950239181519], [0.16468241810798645], [0.16424722969532013], [0.16361744701862335], [0.16294579207897186], [0.1622941941022873], [0.16169394552707672], [0.16116175055503845], [0.16070321202278137], [0.16031496226787567], [0.1599881500005722], [0.15971127152442932], [0.15947292745113373], [0.1592632383108139], [0.1590748131275177], [0.15890245139598846], [0.1587432622909546], [0.15859593451023102], [0.15846019983291626], [0.15833643078804016], [0.15822505950927734], [0.1581263691186905], [0.15804032981395721], [0.1579664647579193], [0.1579039841890335], [0.15785183012485504], [0.15780866146087646], [0.15777309238910675], [0.15774381160736084]]\n"
     ]
    }
   ],
   "source": [
    "from numpy import array\n",
    "\n",
    "lst_output=[]\n",
    "n_steps=100\n",
    "i=0\n",
    "while(i<30):\n",
    "    \n",
    "    if(len(temp_input)>100):\n",
    "        #print(temp_input)\n",
    "        x_input=np.array(temp_input[1:])\n",
    "        print(\"{} day input {}\".format(i,x_input))\n",
    "        x_input=x_input.reshape(1,-1)\n",
    "        x_input = x_input.reshape((1, n_steps, 1))\n",
    "        #print(x_input)\n",
    "        yhat = model.predict(x_input, verbose=0)\n",
    "        print(\"{} day output {}\".format(i,yhat))\n",
    "        temp_input.extend(yhat[0].tolist())\n",
    "        temp_input=temp_input[1:]\n",
    "        #print(temp_input)\n",
    "        lst_output.extend(yhat.tolist())\n",
    "        i=i+1\n",
    "    else:\n",
    "        x_input = x_input.reshape((1, n_steps,1))\n",
    "        yhat = model.predict(x_input, verbose=0)\n",
    "        print(yhat[0])\n",
    "        temp_input.extend(yhat[0].tolist())\n",
    "        print(len(temp_input))\n",
    "        lst_output.extend(yhat.tolist())\n",
    "        i=i+1\n",
    "    \n",
    "\n",
    "print(lst_output)"
   ]
  },
  {
   "cell_type": "code",
   "execution_count": 278,
   "id": "a8c30715-f151-4b88-b302-5b153c0a1ad4",
   "metadata": {},
   "outputs": [],
   "source": [
    "day_new=np.arange(1,101)\n",
    "day_pred=np.arange(101,131)"
   ]
  },
  {
   "cell_type": "code",
   "execution_count": 279,
   "id": "648ff4ef-51d2-4449-bf15-c9017a3e19d5",
   "metadata": {},
   "outputs": [
    {
     "data": {
      "text/plain": [
       "2035"
      ]
     },
     "execution_count": 279,
     "metadata": {},
     "output_type": "execute_result"
    }
   ],
   "source": [
    "len(df1)\n"
   ]
  },
  {
   "cell_type": "code",
   "execution_count": 280,
   "id": "e187753d-a400-429c-9264-126de8f41f3e",
   "metadata": {},
   "outputs": [
    {
     "data": {
      "text/plain": [
       "[<matplotlib.lines.Line2D at 0x214272b1f30>]"
      ]
     },
     "execution_count": 280,
     "metadata": {},
     "output_type": "execute_result"
    },
    {
     "data": {
      "image/png": "[encoded data removed]",
      "text/plain": [
       "<Figure size 432x288 with 1 Axes>"
      ]
     },
     "metadata": {
      "needs_background": "light"
     },
     "output_type": "display_data"
    }
   ],
   "source": [
    "plt.plot(day_new,scaler.inverse_transform(df1[1935:]))\n",
    "plt.plot(day_pred,scaler.inverse_transform(lst_output))"
   ]
  },
  {
   "cell_type": "code",
   "execution_count": 289,
   "id": "445c6e55-b1f5-456e-a2ed-6f44556418c5",
   "metadata": {},
   "outputs": [
    {
     "data": {
      "text/plain": [
       "[<matplotlib.lines.Line2D at 0x2142980b880>]"
      ]
     },
     "execution_count": 289,
     "metadata": {},
     "output_type": "execute_result"
    },
    {
     "data": {
      "image/png": "[encoded data removed]",
      "text/plain": [
       "<Figure size 432x288 with 1 Axes>"
      ]
     },
     "metadata": {
      "needs_background": "light"
     },
     "output_type": "display_data"
    }
   ],
   "source": [
    "df3=df1.tolist()\n",
    "df3.extend(lst_output)\n",
    "plt.plot(df3[1200:])"
   ]
  }
 ],
 "metadata": {
  "kernelspec": {
   "display_name": "Python 3 (ipykernel)",
   "language": "python",
   "name": "python3"
  },
  "language_info": {
   "codemirror_mode": {
    "name": "ipython",
    "version": 3
   },
   "file_extension": ".py",
   "mimetype": "text/x-python",
   "name": "python",
   "nbconvert_exporter": "python",
   "pygments_lexer": "ipython3",
   "version": "3.10.0"
  }
 },
 "nbformat": 4,
 "nbformat_minor": 5
}
